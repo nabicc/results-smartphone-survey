{
 "cells": [
  {
   "cell_type": "markdown",
   "metadata": {},
   "source": [
    "# 2020 Report: Trends in the usage and purchase intentions of smartphones"
   ]
  },
  {
   "cell_type": "code",
   "execution_count": 1,
   "metadata": {},
   "outputs": [],
   "source": [
    "import os\n",
    "os.getcwd()\n",
    "os.chdir('C:\\\\Users\\\\Nallely Abigail Cruz\\\\Desktop\\\\marketing\\\\market research\\\\Quantitative analysis\\\\module 4')"
   ]
  },
  {
   "cell_type": "code",
   "execution_count": 2,
   "metadata": {},
   "outputs": [
    {
     "name": "stderr",
     "output_type": "stream",
     "text": [
      "C:\\Users\\Nallely Abigail Cruz\\Anaconda3\\lib\\site-packages\\statsmodels\\tools\\_testing.py:19: FutureWarning: pandas.util.testing is deprecated. Use the functions in the public API at pandas.testing instead.\n",
      "  import pandas.util.testing as tm\n"
     ]
    }
   ],
   "source": [
    "import pandas as pd\n",
    "import numpy as np\n",
    "import matplotlib.pyplot as plt\n",
    "%matplotlib inline\n",
    "import sidetable\n",
    "import seaborn as sns"
   ]
  },
  {
   "cell_type": "markdown",
   "metadata": {},
   "source": [
    "**Importing data**\n",
    "- Importing two versions of the survey: \n",
    "    - Survey where each answer is coded with numbers (version 1)\n",
    "    - Survey_text where answers is in text (version 2)"
   ]
  },
  {
   "cell_type": "code",
   "execution_count": 3,
   "metadata": {},
   "outputs": [],
   "source": [
    "survey=pd.read_excel(\"data_1.xlsx\")\n",
    "# Eliminating the row including variable names and first questions\n",
    "survey=survey.iloc[1:,5:]"
   ]
  },
  {
   "cell_type": "code",
   "execution_count": 4,
   "metadata": {},
   "outputs": [],
   "source": [
    "# saving names of the variables\n",
    "variables_names=survey.iloc[0,5:]"
   ]
  },
  {
   "cell_type": "code",
   "execution_count": 5,
   "metadata": {},
   "outputs": [],
   "source": [
    "survey_text=pd.read_excel(\"data_1_text_answers.xlsx\")\n",
    "# dropping variables not used for the analysis\n",
    "survey_text=survey_text.iloc[:,10:]"
   ]
  },
  {
   "cell_type": "markdown",
   "metadata": {},
   "source": [
    "# Recoding data "
   ]
  },
  {
   "cell_type": "markdown",
   "metadata": {},
   "source": [
    "**Age: creating new categories**\n",
    "\n",
    "Based on the existing age-ranges, we are gonna create new categories: young adults (ages 18-35 years), middle-aged adults (ages 36-55 years), and older adults (aged older than 55 years)"
   ]
  },
  {
   "cell_type": "code",
   "execution_count": 6,
   "metadata": {},
   "outputs": [
    {
     "data": {
      "text/plain": [
       "[6, 9, 9, 9, 9, 9, 9]"
      ]
     },
     "execution_count": 6,
     "metadata": {},
     "output_type": "execute_result"
    }
   ],
   "source": [
    "# Classifying respondents in 2017 according to age range: \n",
    "years=[[-18,24],[-25,34],[-35,44],[-45,54],[-55,64],[-65,74],[-75,84]]\n",
    "res = [sum(i) for i in (years)] \n",
    "res"
   ]
  },
  {
   "cell_type": "code",
   "execution_count": 7,
   "metadata": {},
   "outputs": [],
   "source": [
    "# Recoding in survey-v1\n",
    "survey[\"age_categories\"]=\"0\"\n",
    "survey.loc[survey.Q26==1,\"age_categories\"]=\"18 <\"\n",
    "survey.loc[(survey.Q26==2)|(survey.Q26==3),\"age_categories\"]=\"18-34\"\n",
    "survey.loc[(survey.Q26==4)|(survey.Q26==5),\"age_categories\"]=\"35-55\"\n",
    "survey.loc[(survey.Q26==6)|(survey.Q26==7)|(survey.Q26==8)|(survey.Q26==9),\"age_categories\"]=\"55 >\""
   ]
  },
  {
   "cell_type": "code",
   "execution_count": 8,
   "metadata": {},
   "outputs": [
    {
     "data": {
      "text/plain": [
       "18-34    645\n",
       "35-55    517\n",
       "55 >      91\n",
       "18 <      64\n",
       "Name: age_categories, dtype: int64"
      ]
     },
     "execution_count": 8,
     "metadata": {},
     "output_type": "execute_result"
    }
   ],
   "source": [
    "survey.age_categories.value_counts()"
   ]
  },
  {
   "cell_type": "code",
   "execution_count": 9,
   "metadata": {},
   "outputs": [],
   "source": [
    "# Recoding in survey-v2\n",
    "survey_text[\"age_categories\"]=\"0\"\n",
    "survey_text.loc[survey_text.Q26==\"Under 18\",\"age_categories\"]=\"18 <\"\n",
    "survey_text.loc[(survey_text.Q26==\"18 - 24\")|(survey_text.Q26==\"25 - 34\"),\"age_categories\"]=\"18-34\"\n",
    "survey_text.loc[(survey_text.Q26==\"35 - 44\")|(survey_text.Q26==\"45 - 54\"),\"age_categories\"]=\"35-55\"\n",
    "survey_text.loc[(survey_text.Q26==\"55 - 64\")|(survey_text.Q26==\"65 - 74\")|(survey_text.Q26==\"75 - 84\")|(survey_text.Q26==\"85 or older\"),\"age_categories\"]=\"55 >\""
   ]
  },
  {
   "cell_type": "markdown",
   "metadata": {},
   "source": [
    "**Education level: regrouping categories**"
   ]
  },
  {
   "cell_type": "code",
   "execution_count": 10,
   "metadata": {},
   "outputs": [],
   "source": [
    "# Level of education:\n",
    "survey_text[\"education\"]=survey_text[\"Q28\"]\n",
    "survey_text.loc[survey_text.Q28==\"Master's degree\",\"education\"]=\"Post_graduate\"\n",
    "survey_text.loc[survey_text.Q28==\"Doctoral degree\",\"education\"]=\"Post_graduate\""
   ]
  },
  {
   "cell_type": "code",
   "execution_count": 11,
   "metadata": {},
   "outputs": [
    {
     "data": {
      "text/plain": [
       "Post_graduate                            467\n",
       "Bachelor's degree in college (4-year)    436\n",
       "Some college but no degree               166\n",
       "Associate degree in college (2-year)     128\n",
       "High school graduate                      49\n",
       "Professional degree (JD, MD)              40\n",
       "Less than high school degree              31\n",
       "Name: education, dtype: int64"
      ]
     },
     "execution_count": 11,
     "metadata": {},
     "output_type": "execute_result"
    }
   ],
   "source": [
    "survey_text.education.value_counts()"
   ]
  },
  {
   "cell_type": "markdown",
   "metadata": {},
   "source": [
    "**Country: creating new labels**"
   ]
  },
  {
   "cell_type": "code",
   "execution_count": 12,
   "metadata": {},
   "outputs": [
    {
     "data": {
      "text/plain": [
       "United States of America    33.181473\n",
       "India                        9.567198\n",
       "China                        8.276386\n",
       "Canada                       5.770691\n",
       "Mexico                       5.011390\n",
       "Name: Q15, dtype: float64"
      ]
     },
     "execution_count": 12,
     "metadata": {},
     "output_type": "execute_result"
    }
   ],
   "source": [
    "# keeping first 5 countries and classifying the rest as other:\n",
    "country=survey_text.Q15.value_counts(normalize=True)\n",
    "country[:5]*100"
   ]
  },
  {
   "cell_type": "code",
   "execution_count": 13,
   "metadata": {},
   "outputs": [
    {
     "data": {
      "text/plain": [
       "Other                       503\n",
       "United States of America    437\n",
       "India                       126\n",
       "China                       109\n",
       "Canada                       76\n",
       "Mexico                       66\n",
       "Name: country, dtype: int64"
      ]
     },
     "execution_count": 13,
     "metadata": {},
     "output_type": "execute_result"
    }
   ],
   "source": [
    "survey_text[\"country\"]=\"Other\"\n",
    "survey_text.loc[survey_text.Q15==\"United States of America\",\"country\"]=\"United States of America\"\n",
    "survey_text.loc[survey_text.Q15==\"India\",\"country\"]=\"India\"\n",
    "survey_text.loc[survey_text.Q15==\"China\",\"country\"]=\"China\"\n",
    "survey_text.loc[survey_text.Q15==\"Canada\",\"country\"]=\"Canada\"\n",
    "survey_text.loc[survey_text.Q15==\"Mexico\",\"country\"]=\"Mexico\"\n",
    "survey_text[\"country\"].value_counts()"
   ]
  },
  {
   "cell_type": "markdown",
   "metadata": {},
   "source": [
    "# Data visualization\n",
    "\n",
    "- We are gonna segment respondents according to three age groups: young adults (ages 18-35 years), middle-aged adults (ages 36-55 years), and older adults (aged older than 55 years).\n",
    "- Perfom visualizations comparing each question by group."
   ]
  },
  {
   "cell_type": "markdown",
   "metadata": {},
   "source": [
    "## **DEMOGRAPHICS** :"
   ]
  },
  {
   "cell_type": "code",
   "execution_count": 14,
   "metadata": {},
   "outputs": [],
   "source": [
    "age_groups=survey_text[\"age_categories\"].value_counts(normalize=True)*100\n",
    "age_groups_table=round(age_groups,2)\n",
    "age_groups_table=age_groups_table.reindex(index=[\"18 <\",\"18-34\",\"35-55\",\"55 >\"])"
   ]
  },
  {
   "cell_type": "code",
   "execution_count": 15,
   "metadata": {},
   "outputs": [
    {
     "data": {
      "image/png": "[encoded data removed]",
      "text/plain": [
       "<Figure size 432x288 with 1 Axes>"
      ]
     },
     "metadata": {},
     "output_type": "display_data"
    }
   ],
   "source": [
    "from matplotlib import cm\n",
    "category_colors = plt.get_cmap('YlGnBu')(np.linspace(0, 1,9))\n",
    "\n",
    "# Custom colors --> colors will cycle\n",
    "plt.pie(age_groups_table, labels=[\"18 <\",\"18-34\",\"35-55\",\"55 >\"], colors=[category_colors[2],category_colors[3],category_colors[5],category_colors[7]],autopct='%1.1f%%')\n",
    "p=plt.gcf()\n",
    "my_circle=plt.Circle( (0,0), 0.4, color='white')\n",
    "p.gca().add_artist(my_circle)\n",
    "plt.title(\"Survey participants by age group\",fontweight=\"bold\")\n",
    "#plt.show()\n",
    "path='graphs\\\\age'\n",
    "# show the graph\n",
    "plt.savefig(path+'.png',bbox_inches=\"tight\")"
   ]
  },
  {
   "cell_type": "markdown",
   "metadata": {},
   "source": [
    "**Education and age group**"
   ]
  },
  {
   "cell_type": "code",
   "execution_count": 16,
   "metadata": {},
   "outputs": [
    {
     "data": {
      "image/png": "[encoded data removed]",
      "text/plain": [
       "<Figure size 432x288 with 1 Axes>"
      ]
     },
     "metadata": {
      "needs_background": "light"
     },
     "output_type": "display_data"
    }
   ],
   "source": [
    "columns_education=['Less than high school degree','High school graduate','Some college but no degree','Associate degree in college (2-year)',\"Bachelor's degree in college (4-year)\",'Post_graduate','Professional degree (JD, MD)']\n",
    "age_education=survey_text.groupby(\"age_categories\")[\"education\"].value_counts(normalize=True).unstack(-1)*100\n",
    "age_educationf=round(age_education,2)\n",
    "\n",
    "# plotting: \n",
    "category_colors = plt.get_cmap('PuBuGn')(np.linspace(0.2, 1,7))\n",
    "\n",
    "colorlist=[category_colors[0],category_colors[1],\n",
    "       category_colors[2],category_colors[3],category_colors[4],\n",
    "      category_colors[5],category_colors[6]]\n",
    "\n",
    "age_educationf.loc[:,columns_education].iloc[:4,:].plot.bar(stacked=True,color=colorlist)\n",
    "# Eliminating borders: spines\n",
    "plt.gca().spines['top'].set_visible(False)\n",
    "plt.gca().spines['right'].set_visible(False)\n",
    "plt.gca().spines['left'].set_visible(False)\n",
    "plt.gca().spines['bottom'].set_visible(False)\n",
    "\n",
    "#titles: \n",
    "plt.title(\"Level of education by age group\",fontweight=\"bold\")\n",
    "plt.xlabel(\"\")\n",
    "\n",
    "import matplotlib.ticker as mtick\n",
    "plt.gca().yaxis.set_major_formatter(mtick.PercentFormatter(xmax=100))\n",
    "\n",
    "#legend format: \n",
    "leg=plt.legend(bbox_to_anchor=(1,1), loc=\"upper left\")\n",
    "leg.get_frame().set_linewidth(0.0)\n",
    "plt.xticks(rotation=0,ha=\"center\",fontsize=9)\n",
    "#plt.show()\n",
    "\n",
    "path='graphs\\\\education'\n",
    "# show the graph\n",
    "plt.savefig(path+'.png',bbox_inches=\"tight\")"
   ]
  },
  {
   "cell_type": "markdown",
   "metadata": {},
   "source": [
    "**Job experience and age group**"
   ]
  },
  {
   "cell_type": "code",
   "execution_count": 17,
   "metadata": {},
   "outputs": [
    {
     "data": {
      "image/png": "[encoded data removed]",
      "text/plain": [
       "<Figure size 432x288 with 1 Axes>"
      ]
     },
     "metadata": {
      "needs_background": "light"
     },
     "output_type": "display_data"
    }
   ],
   "source": [
    "columns_14=[\"I'm a student\",\"I'm entry-level to a few years experience in my work\",\"I'm an experienced specialist or professional\",\"I'm a manager\",\"I'm a consultant\",\"I'm in senior management or leadership\"]\n",
    "age_experience=survey_text.groupby(\"age_categories\")[\"Q14\"].value_counts(normalize=True).unstack(-1)*100\n",
    "age_experiencef=round(age_experience,2)\n",
    "\n",
    "# plotting: \n",
    "category_colors = plt.get_cmap('PuBuGn')(np.linspace(0.4, 1,12))\n",
    "\n",
    "colorlist=[category_colors[0],category_colors[2],\n",
    "       category_colors[4],category_colors[6],category_colors[8],\n",
    "      category_colors[9],category_colors[11]]\n",
    "\n",
    "age_experiencef.loc[:,columns_14].iloc[:4,:].plot.bar(stacked=True,color=colorlist)\n",
    "# Eliminating borders: spines\n",
    "plt.gca().spines['top'].set_visible(False)\n",
    "plt.gca().spines['right'].set_visible(False)\n",
    "plt.gca().spines['left'].set_visible(False)\n",
    "plt.gca().spines['bottom'].set_visible(False)\n",
    "\n",
    "plt.title(\"Job experience by age group\",fontweight=\"bold\")\n",
    "#plt.ylabel(\"%\")\n",
    "plt.xlabel(\"\")\n",
    "plt.gca().yaxis.set_major_formatter(mtick.PercentFormatter(xmax=100))\n",
    "\n",
    "#legend format: \n",
    "leg=plt.legend(bbox_to_anchor=(1,1), loc=\"upper left\")\n",
    "leg.get_frame().set_linewidth(0.0)\n",
    "\n",
    "plt.xticks(rotation=0,ha=\"center\",fontsize=9)\n",
    "#plt.show()\n",
    "\n",
    "path='graphs\\\\job_experience'\n",
    "# show the graph\n",
    "plt.savefig(path+'.png',bbox_inches=\"tight\")"
   ]
  },
  {
   "cell_type": "markdown",
   "metadata": {},
   "source": [
    "**Country**: keep the top 5"
   ]
  },
  {
   "cell_type": "code",
   "execution_count": 18,
   "metadata": {},
   "outputs": [],
   "source": [
    "columns_country=[\"United States of America\",\"India\",\"China\",\"Canada\",\"Mexico\",\"Others\"]\n",
    "age_country=survey_text.groupby(\"age_categories\")[\"country\"].value_counts(normalize=True).unstack(-1)*100\n",
    "age_countryf=round(age_country,2)"
   ]
  },
  {
   "cell_type": "code",
   "execution_count": 19,
   "metadata": {},
   "outputs": [
    {
     "data": {
      "text/html": [
       "<div>\n",
       "<style scoped>\n",
       "    .dataframe tbody tr th:only-of-type {\n",
       "        vertical-align: middle;\n",
       "    }\n",
       "\n",
       "    .dataframe tbody tr th {\n",
       "        vertical-align: top;\n",
       "    }\n",
       "\n",
       "    .dataframe thead th {\n",
       "        text-align: right;\n",
       "    }\n",
       "</style>\n",
       "<table border=\"1\" class=\"dataframe\">\n",
       "  <thead>\n",
       "    <tr style=\"text-align: right;\">\n",
       "      <th>country</th>\n",
       "      <th>Canada</th>\n",
       "      <th>China</th>\n",
       "      <th>India</th>\n",
       "      <th>Mexico</th>\n",
       "      <th>Other</th>\n",
       "      <th>United States of America</th>\n",
       "    </tr>\n",
       "    <tr>\n",
       "      <th>age_categories</th>\n",
       "      <th></th>\n",
       "      <th></th>\n",
       "      <th></th>\n",
       "      <th></th>\n",
       "      <th></th>\n",
       "      <th></th>\n",
       "    </tr>\n",
       "  </thead>\n",
       "  <tbody>\n",
       "    <tr>\n",
       "      <th>18 &lt;</th>\n",
       "      <td>6.25</td>\n",
       "      <td>23.44</td>\n",
       "      <td>4.69</td>\n",
       "      <td>7.81</td>\n",
       "      <td>43.75</td>\n",
       "      <td>14.06</td>\n",
       "    </tr>\n",
       "    <tr>\n",
       "      <th>18-34</th>\n",
       "      <td>4.96</td>\n",
       "      <td>7.91</td>\n",
       "      <td>9.77</td>\n",
       "      <td>5.43</td>\n",
       "      <td>44.19</td>\n",
       "      <td>27.75</td>\n",
       "    </tr>\n",
       "    <tr>\n",
       "      <th>35-55</th>\n",
       "      <td>6.58</td>\n",
       "      <td>6.96</td>\n",
       "      <td>8.70</td>\n",
       "      <td>4.06</td>\n",
       "      <td>30.95</td>\n",
       "      <td>42.75</td>\n",
       "    </tr>\n",
       "    <tr>\n",
       "      <th>55 &gt;</th>\n",
       "      <td>6.59</td>\n",
       "      <td>7.69</td>\n",
       "      <td>16.48</td>\n",
       "      <td>5.49</td>\n",
       "      <td>32.97</td>\n",
       "      <td>30.77</td>\n",
       "    </tr>\n",
       "  </tbody>\n",
       "</table>\n",
       "</div>"
      ],
      "text/plain": [
       "country         Canada  China  India  Mexico  Other  United States of America\n",
       "age_categories                                                               \n",
       "18 <              6.25  23.44   4.69    7.81  43.75                     14.06\n",
       "18-34             4.96   7.91   9.77    5.43  44.19                     27.75\n",
       "35-55             6.58   6.96   8.70    4.06  30.95                     42.75\n",
       "55 >              6.59   7.69  16.48    5.49  32.97                     30.77"
      ]
     },
     "execution_count": 19,
     "metadata": {},
     "output_type": "execute_result"
    }
   ],
   "source": [
    "age_countryf"
   ]
  },
  {
   "cell_type": "code",
   "execution_count": 20,
   "metadata": {},
   "outputs": [
    {
     "data": {
      "image/png": "[encoded data removed]",
      "text/plain": [
       "<Figure size 432x288 with 1 Axes>"
      ]
     },
     "metadata": {
      "needs_background": "light"
     },
     "output_type": "display_data"
    }
   ],
   "source": [
    "#columns_country=[\"United States of America\",\"India\",\"China\",\"Canada\",\"Mexico\",\"Other\"]\n",
    "columns_country=[\"Other\",\"Mexico\",\"Canada\",\"China\",\"India\",\"United States of America\"]\n",
    "age_country=survey_text.groupby(\"age_categories\")[\"country\"].value_counts(normalize=True).unstack(-1)*100\n",
    "age_countryf=round(age_country,2)\n",
    "\n",
    "# plotting: \n",
    "category_colors = plt.get_cmap('PuBuGn')(np.linspace(0.4, 1,12))\n",
    "\n",
    "colorlist=[category_colors[1],category_colors[3],\n",
    "       category_colors[5],category_colors[7],category_colors[8],\n",
    "      category_colors[11]]\n",
    "\n",
    "age_countryf.loc[:,columns_country].iloc[:4,:].plot.bar(stacked=True,color=colorlist)\n",
    "# Eliminating borders: spines\n",
    "plt.gca().spines['top'].set_visible(False)\n",
    "plt.gca().spines['right'].set_visible(False)\n",
    "plt.gca().spines['left'].set_visible(False)\n",
    "plt.gca().spines['bottom'].set_visible(False)\n",
    "\n",
    "plt.title(\"Top 5 countries of residence by age group\",fontweight=\"bold\")\n",
    "plt.gca().yaxis.set_major_formatter(mtick.PercentFormatter(xmax=100))\n",
    "plt.xlabel(\"\")\n",
    "\n",
    "#legend format: \n",
    "leg=plt.legend(bbox_to_anchor=(1,1), loc=\"upper left\")\n",
    "leg.get_frame().set_linewidth(0.0)\n",
    "\n",
    "plt.xticks(rotation=0,ha=\"center\",fontsize=9)\n",
    "#plt.show()\n",
    "path='graphs\\\\country'\n",
    "# show the graph\n",
    "plt.savefig(path+'.png',bbox_inches=\"tight\")"
   ]
  },
  {
   "cell_type": "markdown",
   "metadata": {},
   "source": [
    "##  Smartphone usage questions"
   ]
  },
  {
   "cell_type": "markdown",
   "metadata": {},
   "source": [
    "**Q17: Do you have a smartphone?**"
   ]
  },
  {
   "cell_type": "code",
   "execution_count": 21,
   "metadata": {},
   "outputs": [],
   "source": [
    "columns_country=[\"Yes I have a smartphone\",\"I have a mobile phone, but it is not a smartphone\",\"I do not have any type of mobile phone\"]\n",
    "age_q17=survey_text.groupby(\"age_categories\")[\"Q17\"].value_counts(normalize=True).unstack(-1)*100\n",
    "age_q17f=round(age_q17,2)"
   ]
  },
  {
   "cell_type": "code",
   "execution_count": 22,
   "metadata": {},
   "outputs": [
    {
     "data": {
      "image/png": "[encoded data removed]",
      "text/plain": [
       "<Figure size 432x288 with 1 Axes>"
      ]
     },
     "metadata": {
      "needs_background": "light"
     },
     "output_type": "display_data"
    }
   ],
   "source": [
    "colorlist=[category_colors[8],category_colors[4],\n",
    "       category_colors[1]]\n",
    "age_q17f[[\"Yes I have a smartphone\",\"I have a mobile phone, but it is not a smartphone\",\"I do not have any type of mobile phone\"]].plot.bar(color=colorlist)\n",
    "# Eliminating borders: spines\n",
    "plt.gca().spines['top'].set_visible(False)\n",
    "plt.gca().spines['right'].set_visible(False)\n",
    "plt.gca().spines['left'].set_visible(False)\n",
    "plt.gca().spines['bottom'].set_visible(False)\n",
    "\n",
    "plt.title(\"Do you have a smartphone?\",fontweight=\"bold\")\n",
    "plt.xlabel(\"\")\n",
    "plt.gca().yaxis.set_major_formatter(mtick.PercentFormatter(xmax=100))\n",
    "\n",
    "#legend format: \n",
    "leg=plt.legend(loc='upper center', bbox_to_anchor=(0.5, -0.05),\n",
    "          fancybox=False, shadow=False, ncol=1)\n",
    "leg=leg.get_frame().set_linewidth(0.0)\n",
    "\n",
    "plt.xticks(rotation=0,ha=\"center\",fontsize=9)\n",
    "#plt.show()\n",
    "\n",
    "path='graphs\\\\q17'\n",
    "# show the graph\n",
    "plt.savefig(path+'.png',bbox_inches=\"tight\")"
   ]
  },
  {
   "cell_type": "markdown",
   "metadata": {},
   "source": [
    "**Q10 What best describes your current smartphone?**"
   ]
  },
  {
   "cell_type": "code",
   "execution_count": 23,
   "metadata": {},
   "outputs": [],
   "source": [
    "columns_q10=['Android','iOS (Apple)','Windows','Other']\n",
    "age_q10=survey_text.groupby(\"age_categories\")[\"Q10\"].value_counts(normalize=True).unstack(-1)*100\n",
    "age_q10f=round(age_q10,2)"
   ]
  },
  {
   "cell_type": "code",
   "execution_count": 24,
   "metadata": {},
   "outputs": [
    {
     "data": {
      "text/html": [
       "<div>\n",
       "<style scoped>\n",
       "    .dataframe tbody tr th:only-of-type {\n",
       "        vertical-align: middle;\n",
       "    }\n",
       "\n",
       "    .dataframe tbody tr th {\n",
       "        vertical-align: top;\n",
       "    }\n",
       "\n",
       "    .dataframe thead th {\n",
       "        text-align: right;\n",
       "    }\n",
       "</style>\n",
       "<table border=\"1\" class=\"dataframe\">\n",
       "  <thead>\n",
       "    <tr style=\"text-align: right;\">\n",
       "      <th>Q10</th>\n",
       "      <th>Android</th>\n",
       "      <th>Other</th>\n",
       "      <th>Windows</th>\n",
       "      <th>iOS (Apple)</th>\n",
       "    </tr>\n",
       "    <tr>\n",
       "      <th>age_categories</th>\n",
       "      <th></th>\n",
       "      <th></th>\n",
       "      <th></th>\n",
       "      <th></th>\n",
       "    </tr>\n",
       "  </thead>\n",
       "  <tbody>\n",
       "    <tr>\n",
       "      <th>18 &lt;</th>\n",
       "      <td>86.96</td>\n",
       "      <td>4.35</td>\n",
       "      <td>4.35</td>\n",
       "      <td>4.35</td>\n",
       "    </tr>\n",
       "    <tr>\n",
       "      <th>18-34</th>\n",
       "      <td>79.17</td>\n",
       "      <td>1.33</td>\n",
       "      <td>1.00</td>\n",
       "      <td>18.50</td>\n",
       "    </tr>\n",
       "    <tr>\n",
       "      <th>35-55</th>\n",
       "      <td>71.34</td>\n",
       "      <td>1.20</td>\n",
       "      <td>1.20</td>\n",
       "      <td>26.25</td>\n",
       "    </tr>\n",
       "    <tr>\n",
       "      <th>55 &gt;</th>\n",
       "      <td>76.83</td>\n",
       "      <td>1.22</td>\n",
       "      <td>1.22</td>\n",
       "      <td>20.73</td>\n",
       "    </tr>\n",
       "  </tbody>\n",
       "</table>\n",
       "</div>"
      ],
      "text/plain": [
       "Q10             Android  Other  Windows  iOS (Apple)\n",
       "age_categories                                      \n",
       "18 <              86.96   4.35     4.35         4.35\n",
       "18-34             79.17   1.33     1.00        18.50\n",
       "35-55             71.34   1.20     1.20        26.25\n",
       "55 >              76.83   1.22     1.22        20.73"
      ]
     },
     "execution_count": 24,
     "metadata": {},
     "output_type": "execute_result"
    }
   ],
   "source": [
    "age_q10f"
   ]
  },
  {
   "cell_type": "code",
   "execution_count": 25,
   "metadata": {},
   "outputs": [
    {
     "data": {
      "image/png": "[encoded data removed]",
      "text/plain": [
       "<Figure size 432x288 with 1 Axes>"
      ]
     },
     "metadata": {
      "needs_background": "light"
     },
     "output_type": "display_data"
    }
   ],
   "source": [
    "colorlist=[category_colors[11],category_colors[8],\n",
    "       category_colors[4], category_colors[1]]\n",
    "\n",
    "age_q10f[['Android','iOS (Apple)','Windows','Other']].plot.bar(color=colorlist)\n",
    "plt.gca().spines['top'].set_visible(False)\n",
    "plt.gca().spines['right'].set_visible(False)\n",
    "plt.gca().spines['left'].set_visible(False)\n",
    "plt.gca().spines['bottom'].set_visible(False)\n",
    "\n",
    "plt.title(\"Operating system of current smartphone\",fontweight=\"bold\")\n",
    "plt.xlabel(\"\")\n",
    "plt.gca().yaxis.set_major_formatter(mtick.PercentFormatter(xmax=100))\n",
    "\n",
    "#legend format: \n",
    "leg=plt.legend(loc='upper center', bbox_to_anchor=(0.5, -0.05),\n",
    "          fancybox=False, shadow=False, ncol=4)\n",
    "leg=leg.get_frame().set_linewidth(0.0)\n",
    "\n",
    "#plt.legend(bbox_to_anchor=(1,1), loc=\"upper left\")\n",
    "plt.xticks(rotation=0,ha=\"center\",fontsize=9)\n",
    "#plt.show()\n",
    "\n",
    "path='graphs\\\\q10'\n",
    "# show the graph\n",
    "plt.savefig(path+'.png',bbox_inches=\"tight\")"
   ]
  },
  {
   "cell_type": "markdown",
   "metadata": {},
   "source": [
    " **Q9: Select only questions for people who declare having a smartphone (Q17=\"Yes I have a smartphone)** "
   ]
  },
  {
   "cell_type": "code",
   "execution_count": 26,
   "metadata": {},
   "outputs": [],
   "source": [
    "survey_q9_columns=['Q9_1', 'Q9_2', 'Q9_3', 'Q9_4', 'Q9_5', 'Q9_6', 'Q9_7', 'Q9_8',\n",
    "       'Q9_9', 'Q9_10']\n",
    "survey_q9=survey_text.loc[survey_text['Q17']==\"Yes I have a smartphone\",survey_q9_columns]"
   ]
  },
  {
   "cell_type": "code",
   "execution_count": 27,
   "metadata": {},
   "outputs": [],
   "source": [
    "q9={}\n",
    "for i in survey_q9_columns:\n",
    "    q9_sq=survey_q9[i].value_counts(normalize=True).reindex(index=['Almost every hour','A few times a day','A few times a week','A few times a month','Seldom or never'])\n",
    "    q9[i]=q9_sq"
   ]
  },
  {
   "cell_type": "code",
   "execution_count": 28,
   "metadata": {},
   "outputs": [],
   "source": [
    "q9_df=pd.concat([q9[\"Q9_1\"],q9[\"Q9_2\"],q9[\"Q9_3\"],q9[\"Q9_4\"],q9[\"Q9_5\"],q9[\"Q9_6\"],q9[\"Q9_7\"],q9[\"Q9_8\"],q9[\"Q9_9\"],q9[\"Q9_10\"]],axis=1)"
   ]
  },
  {
   "cell_type": "code",
   "execution_count": 29,
   "metadata": {},
   "outputs": [],
   "source": [
    "q9_f=round(q9_df*100,2)"
   ]
  },
  {
   "cell_type": "code",
   "execution_count": 30,
   "metadata": {},
   "outputs": [],
   "source": [
    "q9_f.rename(columns={\"Q9_1\":'Phone and/or video calls', \"Q9_2\":'Texting and messaging', \n",
    "                       \"Q9_3\":'Email and Calendar', \"Q9_4\":'Getting information', \"Q9_5\":'Social media',\n",
    "                       \"Q9_6\":\"Playing games\",\"Q9_7\":\"Texting and sharing pic and videos\",\"Q9_8\":\"Mapping and navigating\",\n",
    "                       \"Q9_9\":\"Consuming media\",\"Q9_10\":\"Tracking health and fitness\"},inplace=True)"
   ]
  },
  {
   "cell_type": "code",
   "execution_count": 31,
   "metadata": {},
   "outputs": [],
   "source": [
    "q9_f=q9_f.transpose()"
   ]
  },
  {
   "cell_type": "code",
   "execution_count": 32,
   "metadata": {},
   "outputs": [
    {
     "data": {
      "text/html": [
       "<div>\n",
       "<style scoped>\n",
       "    .dataframe tbody tr th:only-of-type {\n",
       "        vertical-align: middle;\n",
       "    }\n",
       "\n",
       "    .dataframe tbody tr th {\n",
       "        vertical-align: top;\n",
       "    }\n",
       "\n",
       "    .dataframe thead th {\n",
       "        text-align: right;\n",
       "    }\n",
       "</style>\n",
       "<table border=\"1\" class=\"dataframe\">\n",
       "  <thead>\n",
       "    <tr style=\"text-align: right;\">\n",
       "      <th></th>\n",
       "      <th>Almost every hour</th>\n",
       "      <th>A few times a day</th>\n",
       "      <th>A few times a week</th>\n",
       "      <th>A few times a month</th>\n",
       "      <th>Seldom or never</th>\n",
       "    </tr>\n",
       "  </thead>\n",
       "  <tbody>\n",
       "    <tr>\n",
       "      <th>Phone and/or video calls</th>\n",
       "      <td>23.54</td>\n",
       "      <td>36.94</td>\n",
       "      <td>24.63</td>\n",
       "      <td>11.40</td>\n",
       "      <td>3.49</td>\n",
       "    </tr>\n",
       "    <tr>\n",
       "      <th>Texting and messaging</th>\n",
       "      <td>44.01</td>\n",
       "      <td>30.03</td>\n",
       "      <td>14.98</td>\n",
       "      <td>7.74</td>\n",
       "      <td>3.24</td>\n",
       "    </tr>\n",
       "    <tr>\n",
       "      <th>Email and Calendar</th>\n",
       "      <td>45.09</td>\n",
       "      <td>33.44</td>\n",
       "      <td>11.73</td>\n",
       "      <td>5.99</td>\n",
       "      <td>3.74</td>\n",
       "    </tr>\n",
       "    <tr>\n",
       "      <th>Getting information</th>\n",
       "      <td>17.47</td>\n",
       "      <td>41.43</td>\n",
       "      <td>25.62</td>\n",
       "      <td>11.81</td>\n",
       "      <td>3.66</td>\n",
       "    </tr>\n",
       "    <tr>\n",
       "      <th>Social media</th>\n",
       "      <td>18.55</td>\n",
       "      <td>22.71</td>\n",
       "      <td>20.63</td>\n",
       "      <td>16.81</td>\n",
       "      <td>21.30</td>\n",
       "    </tr>\n",
       "    <tr>\n",
       "      <th>Playing games</th>\n",
       "      <td>3.91</td>\n",
       "      <td>13.98</td>\n",
       "      <td>16.22</td>\n",
       "      <td>21.38</td>\n",
       "      <td>44.51</td>\n",
       "    </tr>\n",
       "    <tr>\n",
       "      <th>Texting and sharing pic and videos</th>\n",
       "      <td>15.56</td>\n",
       "      <td>32.20</td>\n",
       "      <td>34.03</td>\n",
       "      <td>14.23</td>\n",
       "      <td>3.99</td>\n",
       "    </tr>\n",
       "    <tr>\n",
       "      <th>Mapping and navigating</th>\n",
       "      <td>4.66</td>\n",
       "      <td>19.13</td>\n",
       "      <td>34.94</td>\n",
       "      <td>25.62</td>\n",
       "      <td>15.64</td>\n",
       "    </tr>\n",
       "    <tr>\n",
       "      <th>Consuming media</th>\n",
       "      <td>11.81</td>\n",
       "      <td>26.71</td>\n",
       "      <td>25.87</td>\n",
       "      <td>21.13</td>\n",
       "      <td>14.48</td>\n",
       "    </tr>\n",
       "    <tr>\n",
       "      <th>Tracking health and fitness</th>\n",
       "      <td>5.32</td>\n",
       "      <td>7.90</td>\n",
       "      <td>7.57</td>\n",
       "      <td>7.99</td>\n",
       "      <td>71.21</td>\n",
       "    </tr>\n",
       "  </tbody>\n",
       "</table>\n",
       "</div>"
      ],
      "text/plain": [
       "                                    Almost every hour  A few times a day  \\\n",
       "Phone and/or video calls                        23.54              36.94   \n",
       "Texting and messaging                           44.01              30.03   \n",
       "Email and Calendar                              45.09              33.44   \n",
       "Getting information                             17.47              41.43   \n",
       "Social media                                    18.55              22.71   \n",
       "Playing games                                    3.91              13.98   \n",
       "Texting and sharing pic and videos              15.56              32.20   \n",
       "Mapping and navigating                           4.66              19.13   \n",
       "Consuming media                                 11.81              26.71   \n",
       "Tracking health and fitness                      5.32               7.90   \n",
       "\n",
       "                                    A few times a week  A few times a month  \\\n",
       "Phone and/or video calls                         24.63                11.40   \n",
       "Texting and messaging                            14.98                 7.74   \n",
       "Email and Calendar                               11.73                 5.99   \n",
       "Getting information                              25.62                11.81   \n",
       "Social media                                     20.63                16.81   \n",
       "Playing games                                    16.22                21.38   \n",
       "Texting and sharing pic and videos               34.03                14.23   \n",
       "Mapping and navigating                           34.94                25.62   \n",
       "Consuming media                                  25.87                21.13   \n",
       "Tracking health and fitness                       7.57                 7.99   \n",
       "\n",
       "                                    Seldom or never  \n",
       "Phone and/or video calls                       3.49  \n",
       "Texting and messaging                          3.24  \n",
       "Email and Calendar                             3.74  \n",
       "Getting information                            3.66  \n",
       "Social media                                  21.30  \n",
       "Playing games                                 44.51  \n",
       "Texting and sharing pic and videos             3.99  \n",
       "Mapping and navigating                        15.64  \n",
       "Consuming media                               14.48  \n",
       "Tracking health and fitness                   71.21  "
      ]
     },
     "execution_count": 32,
     "metadata": {},
     "output_type": "execute_result"
    }
   ],
   "source": [
    "q9_f"
   ]
  },
  {
   "cell_type": "code",
   "execution_count": 33,
   "metadata": {},
   "outputs": [
    {
     "data": {
      "image/png": "[encoded data removed]",
      "text/plain": [
       "<Figure size 432x288 with 1 Axes>"
      ]
     },
     "metadata": {
      "needs_background": "light"
     },
     "output_type": "display_data"
    }
   ],
   "source": [
    "# Modifying colours: choose a cmap ex. 'Spectral'\n",
    "category_colors = plt.get_cmap('PuBuGn')(np.linspace(0.4, 1,17))\n",
    "\n",
    "colorlist=[category_colors[16],category_colors[12],\\\n",
    "           category_colors[7],category_colors[5],category_colors[1]]\n",
    "\n",
    "q9_f.plot.barh(stacked=True,color=colorlist)\n",
    "plt.gca().spines['top'].set_visible(False)\n",
    "plt.gca().spines['right'].set_visible(False)\n",
    "plt.gca().spines['left'].set_visible(False)\n",
    "plt.gca().spines['bottom'].set_visible(False)\n",
    "\n",
    "plt.title(\"Smartphone usage frequency\",fontweight=\"bold\")\n",
    "\n",
    "# Order of questions: if a eliminate this code, the first row (ex. 1 question) will appear at the bottom\n",
    "plt.gca().invert_yaxis()\n",
    "# Adding grey vertical lines in the plot\n",
    "plt.grid(color='#95a5a6', linestyle='--', linewidth=0.8, axis='x', alpha=0.3)\n",
    "\n",
    "#legend format: \n",
    "leg=plt.legend(bbox_to_anchor=(1,1), loc=\"upper left\")\n",
    "leg.get_frame().set_linewidth(0.0)\n",
    "plt.xticks(rotation=0,ha=\"center\",fontsize=9)\n",
    "plt.gca().xaxis.set_major_formatter(mtick.PercentFormatter(xmax=100))\n",
    "#plt.show()\n",
    "\n",
    "path='graphs\\\\q9'\n",
    "# show the graph\n",
    "plt.savefig(path+'.png',bbox_inches=\"tight\")"
   ]
  },
  {
   "cell_type": "markdown",
   "metadata": {},
   "source": [
    "**Plotting Q9 for sub-age groups**"
   ]
  },
  {
   "cell_type": "code",
   "execution_count": 34,
   "metadata": {},
   "outputs": [],
   "source": [
    "# define segmentation:\n",
    "age_groups=[\"18-34\",\"35-55\",\"55 >\"]\n",
    "dic_ageg={}\n",
    "for i in age_groups:\n",
    "    # Filtering by two criteria: q17 and age\n",
    "    age_groups=survey_text.loc[(survey_text['Q17']==\"Yes I have a smartphone\") & (survey_text['age_categories']==i),:]\n",
    "    dic_ageg[i]=age_groups"
   ]
  },
  {
   "cell_type": "code",
   "execution_count": 35,
   "metadata": {},
   "outputs": [],
   "source": [
    "# 3 data frames for each \n",
    "g_18_34=dic_ageg[\"18-34\"]\n",
    "g_35_55=dic_ageg[\"35-55\"]\n",
    "g_55=dic_ageg[\"55 >\"]"
   ]
  },
  {
   "cell_type": "code",
   "execution_count": 36,
   "metadata": {},
   "outputs": [],
   "source": [
    "# defining data q9 for each age_group: \n",
    "survey_q9_columns=['Q9_1', 'Q9_2', 'Q9_3', 'Q9_4', 'Q9_5', 'Q9_6', 'Q9_7', 'Q9_8',\n",
    "       'Q9_9', 'Q9_10']\n",
    "\n",
    "survey_q9_18_34=g_18_34.loc[g_18_34['Q17']==\"Yes I have a smartphone\",survey_q9_columns]\n",
    "survey_q9_35_55=g_35_55.loc[g_35_55['Q17']==\"Yes I have a smartphone\",survey_q9_columns]\n",
    "survey_q9_55=g_55.loc[g_55['Q17']==\"Yes I have a smartphone\",survey_q9_columns]"
   ]
  },
  {
   "cell_type": "code",
   "execution_count": 37,
   "metadata": {},
   "outputs": [],
   "source": [
    "# Calculating percentages and answers for each group: \n",
    "q9_18_34={}\n",
    "for i in survey_q9_columns:\n",
    "    q9_sq=survey_q9_18_34[i].value_counts(normalize=True).reindex(index=['Almost every hour','A few times a day','A few times a week','A few times a month','Seldom or never'])\n",
    "    q9[i]=q9_sq\n",
    "    q9_18_34=pd.concat([q9[\"Q9_1\"],q9[\"Q9_2\"],q9[\"Q9_3\"],q9[\"Q9_4\"],q9[\"Q9_5\"],q9[\"Q9_6\"],q9[\"Q9_7\"],q9[\"Q9_8\"],q9[\"Q9_9\"],q9[\"Q9_10\"]],axis=1)"
   ]
  },
  {
   "cell_type": "code",
   "execution_count": 38,
   "metadata": {},
   "outputs": [],
   "source": [
    "q9_35_55={}\n",
    "for i in survey_q9_columns:\n",
    "    q9_sq=survey_q9_35_55[i].value_counts(normalize=True).reindex(index=['Almost every hour','A few times a day','A few times a week','A few times a month','Seldom or never'])\n",
    "    q9[i]=q9_sq\n",
    "    q9_35_55=pd.concat([q9[\"Q9_1\"],q9[\"Q9_2\"],q9[\"Q9_3\"],q9[\"Q9_4\"],q9[\"Q9_5\"],q9[\"Q9_6\"],q9[\"Q9_7\"],q9[\"Q9_8\"],q9[\"Q9_9\"],q9[\"Q9_10\"]],axis=1)"
   ]
  },
  {
   "cell_type": "code",
   "execution_count": 39,
   "metadata": {},
   "outputs": [],
   "source": [
    "q9_55={}\n",
    "for i in survey_q9_columns:\n",
    "    q9_sq=survey_q9_55[i].value_counts(normalize=True).reindex(index=['Almost every hour','A few times a day','A few times a week','A few times a month','Seldom or never'])\n",
    "    q9[i]=q9_sq\n",
    "    q9_55=pd.concat([q9[\"Q9_1\"],q9[\"Q9_2\"],q9[\"Q9_3\"],q9[\"Q9_4\"],q9[\"Q9_5\"],q9[\"Q9_6\"],q9[\"Q9_7\"],q9[\"Q9_8\"],q9[\"Q9_9\"],q9[\"Q9_10\"]],axis=1)"
   ]
  },
  {
   "cell_type": "code",
   "execution_count": 40,
   "metadata": {},
   "outputs": [
    {
     "data": {
      "text/html": [
       "<div>\n",
       "<style scoped>\n",
       "    .dataframe tbody tr th:only-of-type {\n",
       "        vertical-align: middle;\n",
       "    }\n",
       "\n",
       "    .dataframe tbody tr th {\n",
       "        vertical-align: top;\n",
       "    }\n",
       "\n",
       "    .dataframe thead th {\n",
       "        text-align: right;\n",
       "    }\n",
       "</style>\n",
       "<table border=\"1\" class=\"dataframe\">\n",
       "  <thead>\n",
       "    <tr style=\"text-align: right;\">\n",
       "      <th></th>\n",
       "      <th>Almost every hour</th>\n",
       "      <th>A few times a day</th>\n",
       "      <th>A few times a week</th>\n",
       "      <th>A few times a month</th>\n",
       "      <th>Seldom or never</th>\n",
       "    </tr>\n",
       "  </thead>\n",
       "  <tbody>\n",
       "    <tr>\n",
       "      <th>18-34</th>\n",
       "      <td>47.32</td>\n",
       "      <td>25.42</td>\n",
       "      <td>16.22</td>\n",
       "      <td>7.86</td>\n",
       "      <td>3.18</td>\n",
       "    </tr>\n",
       "    <tr>\n",
       "      <th>35-55</th>\n",
       "      <td>39.88</td>\n",
       "      <td>35.27</td>\n",
       "      <td>14.03</td>\n",
       "      <td>7.62</td>\n",
       "      <td>3.21</td>\n",
       "    </tr>\n",
       "    <tr>\n",
       "      <th>55 &gt;</th>\n",
       "      <td>42.68</td>\n",
       "      <td>32.93</td>\n",
       "      <td>10.98</td>\n",
       "      <td>8.54</td>\n",
       "      <td>4.88</td>\n",
       "    </tr>\n",
       "  </tbody>\n",
       "</table>\n",
       "</div>"
      ],
      "text/plain": [
       "       Almost every hour  A few times a day  A few times a week  \\\n",
       "18-34              47.32              25.42               16.22   \n",
       "35-55              39.88              35.27               14.03   \n",
       "55 >               42.68              32.93               10.98   \n",
       "\n",
       "       A few times a month  Seldom or never  \n",
       "18-34                 7.86             3.18  \n",
       "35-55                 7.62             3.21  \n",
       "55 >                  8.54             4.88  "
      ]
     },
     "execution_count": 40,
     "metadata": {},
     "output_type": "execute_result"
    }
   ],
   "source": [
    "# Choosing the questions we are gonna plot:\n",
    "df_q2=pd.concat([q9_18_34[\"Q9_2\"],q9_35_55[\"Q9_2\"],q9_55[\"Q9_2\"]],axis=1)\n",
    "df_q2.columns = [ '18-34', '35-55', '55 >' ]\n",
    "df_q2=round(df_q2*100,2).transpose()\n",
    "df_q2"
   ]
  },
  {
   "cell_type": "code",
   "execution_count": 41,
   "metadata": {},
   "outputs": [
    {
     "data": {
      "text/html": [
       "<div>\n",
       "<style scoped>\n",
       "    .dataframe tbody tr th:only-of-type {\n",
       "        vertical-align: middle;\n",
       "    }\n",
       "\n",
       "    .dataframe tbody tr th {\n",
       "        vertical-align: top;\n",
       "    }\n",
       "\n",
       "    .dataframe thead th {\n",
       "        text-align: right;\n",
       "    }\n",
       "</style>\n",
       "<table border=\"1\" class=\"dataframe\">\n",
       "  <thead>\n",
       "    <tr style=\"text-align: right;\">\n",
       "      <th></th>\n",
       "      <th>Almost every hour</th>\n",
       "      <th>A few times a day</th>\n",
       "      <th>A few times a week</th>\n",
       "      <th>A few times a month</th>\n",
       "      <th>Seldom or never</th>\n",
       "    </tr>\n",
       "  </thead>\n",
       "  <tbody>\n",
       "    <tr>\n",
       "      <th>18-34</th>\n",
       "      <td>47.49</td>\n",
       "      <td>30.94</td>\n",
       "      <td>11.54</td>\n",
       "      <td>6.69</td>\n",
       "      <td>3.34</td>\n",
       "    </tr>\n",
       "    <tr>\n",
       "      <th>35-55</th>\n",
       "      <td>43.29</td>\n",
       "      <td>37.07</td>\n",
       "      <td>11.22</td>\n",
       "      <td>4.21</td>\n",
       "      <td>4.21</td>\n",
       "    </tr>\n",
       "    <tr>\n",
       "      <th>55 &gt;</th>\n",
       "      <td>36.59</td>\n",
       "      <td>32.93</td>\n",
       "      <td>13.41</td>\n",
       "      <td>12.20</td>\n",
       "      <td>4.88</td>\n",
       "    </tr>\n",
       "  </tbody>\n",
       "</table>\n",
       "</div>"
      ],
      "text/plain": [
       "       Almost every hour  A few times a day  A few times a week  \\\n",
       "18-34              47.49              30.94               11.54   \n",
       "35-55              43.29              37.07               11.22   \n",
       "55 >               36.59              32.93               13.41   \n",
       "\n",
       "       A few times a month  Seldom or never  \n",
       "18-34                 6.69             3.34  \n",
       "35-55                 4.21             4.21  \n",
       "55 >                 12.20             4.88  "
      ]
     },
     "execution_count": 41,
     "metadata": {},
     "output_type": "execute_result"
    }
   ],
   "source": [
    "# Choosing the questions we are gonna plot:\n",
    "df_q3=pd.concat([q9_18_34[\"Q9_3\"],q9_35_55[\"Q9_3\"],q9_55[\"Q9_3\"]],axis=1)\n",
    "df_q3.columns = [ '18-34', '35-55', '55 >' ]\n",
    "df_q3=round(df_q3*100,2).transpose()\n",
    "df_q3"
   ]
  },
  {
   "cell_type": "code",
   "execution_count": 42,
   "metadata": {},
   "outputs": [
    {
     "data": {
      "text/html": [
       "<div>\n",
       "<style scoped>\n",
       "    .dataframe tbody tr th:only-of-type {\n",
       "        vertical-align: middle;\n",
       "    }\n",
       "\n",
       "    .dataframe tbody tr th {\n",
       "        vertical-align: top;\n",
       "    }\n",
       "\n",
       "    .dataframe thead th {\n",
       "        text-align: right;\n",
       "    }\n",
       "</style>\n",
       "<table border=\"1\" class=\"dataframe\">\n",
       "  <thead>\n",
       "    <tr style=\"text-align: right;\">\n",
       "      <th></th>\n",
       "      <th>Almost every hour</th>\n",
       "      <th>A few times a day</th>\n",
       "      <th>A few times a week</th>\n",
       "      <th>A few times a month</th>\n",
       "      <th>Seldom or never</th>\n",
       "    </tr>\n",
       "  </thead>\n",
       "  <tbody>\n",
       "    <tr>\n",
       "      <th>18-34</th>\n",
       "      <td>18.90</td>\n",
       "      <td>22.24</td>\n",
       "      <td>19.40</td>\n",
       "      <td>20.57</td>\n",
       "      <td>18.90</td>\n",
       "    </tr>\n",
       "    <tr>\n",
       "      <th>35-55</th>\n",
       "      <td>18.04</td>\n",
       "      <td>24.05</td>\n",
       "      <td>22.24</td>\n",
       "      <td>14.23</td>\n",
       "      <td>21.44</td>\n",
       "    </tr>\n",
       "    <tr>\n",
       "      <th>55 &gt;</th>\n",
       "      <td>20.73</td>\n",
       "      <td>17.07</td>\n",
       "      <td>21.95</td>\n",
       "      <td>6.10</td>\n",
       "      <td>34.15</td>\n",
       "    </tr>\n",
       "  </tbody>\n",
       "</table>\n",
       "</div>"
      ],
      "text/plain": [
       "       Almost every hour  A few times a day  A few times a week  \\\n",
       "18-34              18.90              22.24               19.40   \n",
       "35-55              18.04              24.05               22.24   \n",
       "55 >               20.73              17.07               21.95   \n",
       "\n",
       "       A few times a month  Seldom or never  \n",
       "18-34                20.57            18.90  \n",
       "35-55                14.23            21.44  \n",
       "55 >                  6.10            34.15  "
      ]
     },
     "execution_count": 42,
     "metadata": {},
     "output_type": "execute_result"
    }
   ],
   "source": [
    "# Choosing the questions we are gonna plot:\n",
    "df_q5=pd.concat([q9_18_34[\"Q9_5\"],q9_35_55[\"Q9_5\"],q9_55[\"Q9_5\"]],axis=1)\n",
    "df_q5.columns = [ '18-34', '35-55', '55 >' ]\n",
    "df_q5=round(df_q5*100,2).transpose()\n",
    "df_q5"
   ]
  },
  {
   "cell_type": "code",
   "execution_count": 43,
   "metadata": {},
   "outputs": [
    {
     "data": {
      "text/html": [
       "<div>\n",
       "<style scoped>\n",
       "    .dataframe tbody tr th:only-of-type {\n",
       "        vertical-align: middle;\n",
       "    }\n",
       "\n",
       "    .dataframe tbody tr th {\n",
       "        vertical-align: top;\n",
       "    }\n",
       "\n",
       "    .dataframe thead th {\n",
       "        text-align: right;\n",
       "    }\n",
       "</style>\n",
       "<table border=\"1\" class=\"dataframe\">\n",
       "  <thead>\n",
       "    <tr style=\"text-align: right;\">\n",
       "      <th></th>\n",
       "      <th>Almost every hour</th>\n",
       "      <th>A few times a day</th>\n",
       "      <th>A few times a week</th>\n",
       "      <th>A few times a month</th>\n",
       "      <th>Seldom or never</th>\n",
       "    </tr>\n",
       "  </thead>\n",
       "  <tbody>\n",
       "    <tr>\n",
       "      <th>18-34</th>\n",
       "      <td>4.35</td>\n",
       "      <td>16.22</td>\n",
       "      <td>18.39</td>\n",
       "      <td>23.41</td>\n",
       "      <td>37.63</td>\n",
       "    </tr>\n",
       "    <tr>\n",
       "      <th>35-55</th>\n",
       "      <td>2.61</td>\n",
       "      <td>11.42</td>\n",
       "      <td>13.23</td>\n",
       "      <td>18.24</td>\n",
       "      <td>54.51</td>\n",
       "    </tr>\n",
       "    <tr>\n",
       "      <th>55 &gt;</th>\n",
       "      <td>6.10</td>\n",
       "      <td>13.41</td>\n",
       "      <td>13.41</td>\n",
       "      <td>28.05</td>\n",
       "      <td>39.02</td>\n",
       "    </tr>\n",
       "  </tbody>\n",
       "</table>\n",
       "</div>"
      ],
      "text/plain": [
       "       Almost every hour  A few times a day  A few times a week  \\\n",
       "18-34               4.35              16.22               18.39   \n",
       "35-55               2.61              11.42               13.23   \n",
       "55 >                6.10              13.41               13.41   \n",
       "\n",
       "       A few times a month  Seldom or never  \n",
       "18-34                23.41            37.63  \n",
       "35-55                18.24            54.51  \n",
       "55 >                 28.05            39.02  "
      ]
     },
     "execution_count": 43,
     "metadata": {},
     "output_type": "execute_result"
    }
   ],
   "source": [
    "# Choosing the questions we are gonna plot:\n",
    "df_q6=pd.concat([q9_18_34[\"Q9_6\"],q9_35_55[\"Q9_6\"],q9_55[\"Q9_6\"]],axis=1)\n",
    "df_q6.columns = [ '18-34', '35-55', '55 >' ]\n",
    "df_q6=round(df_q6*100,2).transpose()\n",
    "df_q6"
   ]
  },
  {
   "cell_type": "code",
   "execution_count": 44,
   "metadata": {},
   "outputs": [
    {
     "data": {
      "image/png": "[encoded data removed]",
      "text/plain": [
       "<Figure size 576x288 with 4 Axes>"
      ]
     },
     "metadata": {
      "needs_background": "light"
     },
     "output_type": "display_data"
    }
   ],
   "source": [
    "category_colors = plt.get_cmap('PuBuGn')(np.linspace(0.4, 1,17))\n",
    "\n",
    "colorlist=[category_colors[16],category_colors[12],\\\n",
    "           category_colors[7],category_colors[5],category_colors[1]]\n",
    "\n",
    "\n",
    "fig, axarr = plt.subplots(2, 2, figsize=(8, 4),sharex=False,sharey=False)\n",
    "#fig.suptitle('How often you use your smartphone for it?',fontweight=\"bold\")\n",
    "\n",
    "df_q2.plot.barh(stacked=True,width=0.4,color=colorlist,ax=axarr[0][0])\n",
    "axarr[0][0].set(frame_on=False)\n",
    "axarr[0][0].invert_yaxis()\n",
    "axarr[0][0].get_legend().remove()\n",
    "axarr[0][0].title.set_text(\"Texting and messaging\")\n",
    "axarr[0][0].grid(color='#95a5a6', linestyle='--', linewidth=0.8, axis='x', alpha=0.3)\n",
    "axarr[0][0].xaxis.set_ticklabels([])\n",
    "axarr[0][0].xaxis.set_ticks_position('none')\n",
    "\n",
    "df_q3.plot.barh(stacked=True,width=0.4,color=colorlist,ax=axarr[0][1])\n",
    "axarr[0][1].set(frame_on=False) \n",
    "axarr[0][1].invert_yaxis()\n",
    "axarr[0][1].get_legend().remove()\n",
    "axarr[0][1].title.set_text(\"Email and Calendar\")\n",
    "axarr[0][1].grid(color='#95a5a6', linestyle='--', linewidth=0.8, axis='x', alpha=0.3)\n",
    "axarr[0][1].xaxis.set_ticklabels([])\n",
    "axarr[0][1].yaxis.set_ticklabels([])\n",
    "axarr[0][1].xaxis.set_ticks_position('none')\n",
    "axarr[0][1].yaxis.set_ticks_position('none')\n",
    "\n",
    "df_q5.plot.barh(stacked=True,width=0.4,color=colorlist,ax=axarr[1][0])\n",
    "axarr[1][0].set(frame_on=False) \n",
    "axarr[1][0].invert_yaxis()\n",
    "axarr[1][0].get_legend().remove()\n",
    "axarr[1][0].title.set_text(\"Social media\")\n",
    "axarr[1][0].grid(color='#95a5a6', linestyle='--', linewidth=0.8, axis='x', alpha=0.3)\n",
    "\n",
    "df_q6.plot.barh(stacked=True,width=0.4,color=colorlist,ax=axarr[1][1])\n",
    "axarr[1][1].set(frame_on=False) \n",
    "axarr[1][1].invert_yaxis()\n",
    "axarr[1][1].get_legend().remove()\n",
    "axarr[1][1].title.set_text(\"Playing games\")\n",
    "axarr[1][1].yaxis.set_ticks([])\n",
    "axarr[1][1].grid(color='#95a5a6', linestyle='--', linewidth=0.8, axis='x', alpha=0.3)\n",
    "\n",
    "plt.subplots_adjust(wspace=0.01, hspace=0.09)\n",
    "#plt.show()\n",
    "\n",
    "\n",
    "path='graphs\\\\q9_'\n",
    "# show the graph\n",
    "plt.savefig(path+'.png',bbox_inches=\"tight\")"
   ]
  },
  {
   "cell_type": "markdown",
   "metadata": {},
   "source": [
    "**Q17: star ratings to all the smartphone activities below** "
   ]
  },
  {
   "cell_type": "code",
   "execution_count": 45,
   "metadata": {},
   "outputs": [],
   "source": [
    "q17=survey_text.iloc[:, np.r_[5,20:32]].loc[survey_text['Q17']==\"Yes I have a smartphone\",:].iloc[:,1:11]\n",
    "# Calculate and keep only the mean\n",
    "q17_df=q17.describe().iloc[1,:].round(2)"
   ]
  },
  {
   "cell_type": "code",
   "execution_count": 46,
   "metadata": {},
   "outputs": [
    {
     "data": {
      "text/plain": [
       "Q17_1     3.73\n",
       "Q17_2     3.97\n",
       "Q17_3     3.98\n",
       "Q17_4     3.48\n",
       "Q17_5     2.96\n",
       "Q17_6     2.33\n",
       "Q17_7     3.50\n",
       "Q17_8     2.89\n",
       "Q17_9     2.98\n",
       "Q17_10    2.26\n",
       "Name: mean, dtype: float64"
      ]
     },
     "execution_count": 46,
     "metadata": {},
     "output_type": "execute_result"
    }
   ],
   "source": [
    "q17_df"
   ]
  },
  {
   "cell_type": "code",
   "execution_count": 47,
   "metadata": {},
   "outputs": [
    {
     "data": {
      "image/png": "[encoded data removed]",
      "text/plain": [
       "<Figure size 432x288 with 1 Axes>"
      ]
     },
     "metadata": {
      "needs_background": "light"
     },
     "output_type": "display_data"
    }
   ],
   "source": [
    "df=q17_df\n",
    "# Array of the values you want to plot\n",
    "dataVar1 = df.values\n",
    "# XMain: array with the names for each question \n",
    "xMain = df.index\n",
    "\n",
    "category_colors = plt.get_cmap('YlGnBu')(np.linspace(0, 1,9))\n",
    "\n",
    "# Choose width of bars: width\n",
    "height=0.5\n",
    "\n",
    "# Plot data for each array: \n",
    "p1 = plt.barh(xMain, \n",
    "            dataVar1, \n",
    "            height=height,\n",
    "            color=category_colors[5])\n",
    "# Adding names to each bar: \n",
    "plt.yticks(xMain,('Phone and/or video calls', 'Texting and messaging', 'Email and Calendar', 'Getting information', 'Social media',\"Playing games\",\"Texting and sharing pic and videos\",\"Mapping and navigating\",\"Consuming media\",\"Tracking health and fitness\"),rotation=0,ha=\"right\",fontsize=9)\n",
    "\n",
    "# Order of questions: if a eliminate this code, the first row (ex. 1 question) will appear at the bottom\n",
    "plt.gca().invert_yaxis()\n",
    "\n",
    "# Eliminating borders: spines\n",
    "plt.gca().spines['top'].set_visible(False)\n",
    "plt.gca().spines['right'].set_visible(False)\n",
    "plt.gca().spines['left'].set_visible(False)\n",
    "plt.gca().spines['bottom'].set_visible(False)\n",
    "\n",
    "# Adding grey vertical lines in the plot\n",
    "plt.grid(color='#95a5a6', linestyle='--', linewidth=0.8, axis='x', alpha=0.3)\n",
    "\n",
    "#plt.legend(bbox_to_anchor=(1,1), loc=\"upper left\")\n",
    "plt.title(\"Please give star ratings to all the smartphone activities below:\",fontweight=\"bold\")\n",
    "plt.xlabel(\"Mean of rating\")\n",
    "#plt.show()\n",
    "\n",
    "# show the graph\n",
    "#plt.savefig('output_fig.png')\n",
    "path='graphs\\\\17_ratings'\n",
    "# show the graph\n",
    "plt.savefig(path+'.png',bbox_inches=\"tight\")"
   ]
  },
  {
   "cell_type": "code",
   "execution_count": 48,
   "metadata": {},
   "outputs": [],
   "source": [
    "age_groups=[\"18-34\",\"35-55\",\"55 >\"]\n",
    "survey_q17_columns=['Q17_1', 'Q17_2', 'Q17_3', 'Q17_4', 'Q17_5', 'Q17_6', 'Q17_7', 'Q17_8','Q17_9', 'Q17_10']\n",
    "\n",
    "dic_q17={}\n",
    "for i in age_groups: \n",
    "    q17_age=survey_text.loc[(survey_text['Q17']==\"Yes I have a smartphone\") & (survey_text['age_categories']==i),survey_q17_columns]\n",
    "    q17_age_mean=q17_age.describe().iloc[1,:].round(2)\n",
    "    dic_q17[i]=q17_age_mean"
   ]
  },
  {
   "cell_type": "code",
   "execution_count": 49,
   "metadata": {},
   "outputs": [
    {
     "data": {
      "text/plain": [
       "Q17_1     3.61\n",
       "Q17_2     3.90\n",
       "Q17_3     3.91\n",
       "Q17_4     3.39\n",
       "Q17_5     2.97\n",
       "Q17_6     2.49\n",
       "Q17_7     3.51\n",
       "Q17_8     2.75\n",
       "Q17_9     3.03\n",
       "Q17_10    2.30\n",
       "Name: mean, dtype: float64"
      ]
     },
     "execution_count": 49,
     "metadata": {},
     "output_type": "execute_result"
    }
   ],
   "source": [
    "dic_q17[\"18-34\"]"
   ]
  },
  {
   "cell_type": "code",
   "execution_count": 51,
   "metadata": {},
   "outputs": [
    {
     "data": {
      "image/png": "[encoded data removed]",
      "text/plain": [
       "<Figure size 432x288 with 1 Axes>"
      ]
     },
     "metadata": {
      "needs_background": "light"
     },
     "output_type": "display_data"
    }
   ],
   "source": [
    "# Array of the values you want to plot for each group\n",
    "df1=dic_q17[\"18-34\"]\n",
    "dataVar1 = df1.values\n",
    "\n",
    "df2=dic_q17[\"35-55\"]\n",
    "dataVar2 = df2.values\n",
    "\n",
    "df3=dic_q17[\"55 >\"]\n",
    "dataVar3 = df3.values\n",
    "\n",
    "\n",
    "# XMain: array with length of the number of bars. EX. 9 subquestions, 9 x ticks.\n",
    "xMain = np.arange(len(df1.index)) \n",
    "\n",
    "category_colors = plt.get_cmap('YlGnBu')(np.linspace(0, 1,9))\n",
    "# Choose width of bars: width\n",
    "height=0.20\n",
    "\n",
    "# Plot data for each array: \n",
    "p1 = plt.barh((xMain - 0.20), \n",
    "            dataVar1,\n",
    "            height=height,\n",
    "            color=[category_colors[3]],label=\"18-34\")\n",
    "p2 = plt.barh(xMain, \n",
    "            dataVar2, \n",
    "            height=height, \n",
    "            color=[category_colors[5]],label=\"35-55\")\n",
    "p3 = plt.barh((xMain + 0.20), \n",
    "            dataVar3, \n",
    "            height=height, \n",
    "            color=[category_colors[7]],label=\"55 >\")\n",
    "\n",
    "\n",
    "# Adding names to each bar: \n",
    "plt.yticks(xMain,('Phone and/or video calls', 'Texting and messaging', \n",
    "                  'Email and Calendar', 'Getting information', 'Social media',\n",
    "                  \"Playing games\",\"Texting and sharing pic and videos\",\"Mapping and navigating\",\n",
    "                  \"Consuming media\",\"Tracking health and fitness\"),rotation=0,ha=\"right\",fontsize=9)\n",
    "\n",
    "# Order of questions: if a eliminate this code, the first row (ex. 1 question) will appear at the bottom\n",
    "plt.gca().invert_yaxis()\n",
    "\n",
    "# Eliminating borders: spines\n",
    "plt.gca().spines['top'].set_visible(False)\n",
    "plt.gca().spines['right'].set_visible(False)\n",
    "plt.gca().spines['left'].set_visible(False)\n",
    "plt.gca().spines['bottom'].set_visible(False)\n",
    "\n",
    "# Adding grey vertical lines in the plot\n",
    "plt.grid(color='#95a5a6', linestyle='--', linewidth=0.8, axis='x', alpha=0.3)\n",
    "\n",
    "leg=plt.legend(bbox_to_anchor=(1,1), loc=\"upper left\")\n",
    "leg.get_frame().set_linewidth(0.0)\n",
    "\n",
    "plt.title(\"Average rating (scale 1-5) to each smartphone activity below:\",fontweight=\"bold\")\n",
    "#plt.show()\n",
    "\n",
    "# show the graph\n",
    "#plt.savefig('output_fig.png')\n",
    "path='graphs\\\\q17_ratings_age'\n",
    "# show the graph\n",
    "plt.savefig(path+'.png',bbox_inches=\"tight\")"
   ]
  },
  {
   "cell_type": "markdown",
   "metadata": {},
   "source": [
    "## Questions related to intentions and preferences when buying a smartphone"
   ]
  },
  {
   "cell_type": "markdown",
   "metadata": {},
   "source": [
    "**Q34 Which of the following impacts your decision to upgrade to a new phone? (Please select all that apply)** multiple answer"
   ]
  },
  {
   "cell_type": "code",
   "execution_count": 52,
   "metadata": {},
   "outputs": [],
   "source": [
    "q34=survey.iloc[:, np.r_[7,35:42]].loc[survey['Q17']==1,:].iloc[:,1:]"
   ]
  },
  {
   "cell_type": "code",
   "execution_count": 53,
   "metadata": {},
   "outputs": [
    {
     "data": {
      "text/html": [
       "<div>\n",
       "<style scoped>\n",
       "    .dataframe tbody tr th:only-of-type {\n",
       "        vertical-align: middle;\n",
       "    }\n",
       "\n",
       "    .dataframe tbody tr th {\n",
       "        vertical-align: top;\n",
       "    }\n",
       "\n",
       "    .dataframe thead th {\n",
       "        text-align: right;\n",
       "    }\n",
       "</style>\n",
       "<table border=\"1\" class=\"dataframe\">\n",
       "  <thead>\n",
       "    <tr style=\"text-align: right;\">\n",
       "      <th></th>\n",
       "      <th>Q34_1</th>\n",
       "      <th>Q34_2</th>\n",
       "      <th>Q34_3</th>\n",
       "      <th>Q34_4</th>\n",
       "      <th>Q34_5</th>\n",
       "      <th>Q34_6</th>\n",
       "      <th>Q34_6_TEXT</th>\n",
       "    </tr>\n",
       "  </thead>\n",
       "  <tbody>\n",
       "    <tr>\n",
       "      <th>1</th>\n",
       "      <td>1</td>\n",
       "      <td>NaN</td>\n",
       "      <td>NaN</td>\n",
       "      <td>1</td>\n",
       "      <td>1</td>\n",
       "      <td>NaN</td>\n",
       "      <td>NaN</td>\n",
       "    </tr>\n",
       "    <tr>\n",
       "      <th>2</th>\n",
       "      <td>NaN</td>\n",
       "      <td>NaN</td>\n",
       "      <td>NaN</td>\n",
       "      <td>NaN</td>\n",
       "      <td>1</td>\n",
       "      <td>1</td>\n",
       "      <td>Just plain time for an upgrade</td>\n",
       "    </tr>\n",
       "    <tr>\n",
       "      <th>3</th>\n",
       "      <td>NaN</td>\n",
       "      <td>NaN</td>\n",
       "      <td>NaN</td>\n",
       "      <td>NaN</td>\n",
       "      <td>1</td>\n",
       "      <td>NaN</td>\n",
       "      <td>NaN</td>\n",
       "    </tr>\n",
       "    <tr>\n",
       "      <th>4</th>\n",
       "      <td>NaN</td>\n",
       "      <td>NaN</td>\n",
       "      <td>NaN</td>\n",
       "      <td>1</td>\n",
       "      <td>1</td>\n",
       "      <td>NaN</td>\n",
       "      <td>NaN</td>\n",
       "    </tr>\n",
       "    <tr>\n",
       "      <th>5</th>\n",
       "      <td>NaN</td>\n",
       "      <td>NaN</td>\n",
       "      <td>NaN</td>\n",
       "      <td>NaN</td>\n",
       "      <td>1</td>\n",
       "      <td>NaN</td>\n",
       "      <td>NaN</td>\n",
       "    </tr>\n",
       "    <tr>\n",
       "      <th>...</th>\n",
       "      <td>...</td>\n",
       "      <td>...</td>\n",
       "      <td>...</td>\n",
       "      <td>...</td>\n",
       "      <td>...</td>\n",
       "      <td>...</td>\n",
       "      <td>...</td>\n",
       "    </tr>\n",
       "    <tr>\n",
       "      <th>1313</th>\n",
       "      <td>NaN</td>\n",
       "      <td>1</td>\n",
       "      <td>NaN</td>\n",
       "      <td>NaN</td>\n",
       "      <td>1</td>\n",
       "      <td>NaN</td>\n",
       "      <td>NaN</td>\n",
       "    </tr>\n",
       "    <tr>\n",
       "      <th>1314</th>\n",
       "      <td>NaN</td>\n",
       "      <td>NaN</td>\n",
       "      <td>NaN</td>\n",
       "      <td>1</td>\n",
       "      <td>1</td>\n",
       "      <td>NaN</td>\n",
       "      <td>NaN</td>\n",
       "    </tr>\n",
       "    <tr>\n",
       "      <th>1315</th>\n",
       "      <td>1</td>\n",
       "      <td>NaN</td>\n",
       "      <td>NaN</td>\n",
       "      <td>NaN</td>\n",
       "      <td>NaN</td>\n",
       "      <td>NaN</td>\n",
       "      <td>NaN</td>\n",
       "    </tr>\n",
       "    <tr>\n",
       "      <th>1316</th>\n",
       "      <td>NaN</td>\n",
       "      <td>NaN</td>\n",
       "      <td>NaN</td>\n",
       "      <td>NaN</td>\n",
       "      <td>1</td>\n",
       "      <td>NaN</td>\n",
       "      <td>NaN</td>\n",
       "    </tr>\n",
       "    <tr>\n",
       "      <th>1317</th>\n",
       "      <td>NaN</td>\n",
       "      <td>NaN</td>\n",
       "      <td>NaN</td>\n",
       "      <td>1</td>\n",
       "      <td>NaN</td>\n",
       "      <td>NaN</td>\n",
       "      <td>NaN</td>\n",
       "    </tr>\n",
       "  </tbody>\n",
       "</table>\n",
       "<p>1202 rows × 7 columns</p>\n",
       "</div>"
      ],
      "text/plain": [
       "     Q34_1 Q34_2 Q34_3 Q34_4 Q34_5 Q34_6                      Q34_6_TEXT\n",
       "1        1   NaN   NaN     1     1   NaN                             NaN\n",
       "2      NaN   NaN   NaN   NaN     1     1  Just plain time for an upgrade\n",
       "3      NaN   NaN   NaN   NaN     1   NaN                             NaN\n",
       "4      NaN   NaN   NaN     1     1   NaN                             NaN\n",
       "5      NaN   NaN   NaN   NaN     1   NaN                             NaN\n",
       "...    ...   ...   ...   ...   ...   ...                             ...\n",
       "1313   NaN     1   NaN   NaN     1   NaN                             NaN\n",
       "1314   NaN   NaN   NaN     1     1   NaN                             NaN\n",
       "1315     1   NaN   NaN   NaN   NaN   NaN                             NaN\n",
       "1316   NaN   NaN   NaN   NaN     1   NaN                             NaN\n",
       "1317   NaN   NaN   NaN     1   NaN   NaN                             NaN\n",
       "\n",
       "[1202 rows x 7 columns]"
      ]
     },
     "execution_count": 53,
     "metadata": {},
     "output_type": "execute_result"
    }
   ],
   "source": [
    "q34"
   ]
  },
  {
   "cell_type": "code",
   "execution_count": 54,
   "metadata": {},
   "outputs": [],
   "source": [
    "# replacing the variable containing text by 1:\n",
    "q34[\"Q34_6_TEXT\"].fillna(0,inplace=True)\n",
    "q34[\"Q34_other\"]=1\n",
    "q34.loc[q34[\"Q34_6_TEXT\"]==0,\"Q34_other\"]=0"
   ]
  },
  {
   "cell_type": "code",
   "execution_count": 55,
   "metadata": {},
   "outputs": [],
   "source": [
    "# Multiple questions: divide number of respondents and multiply 100\n",
    "q34=round(q34.sum()/1201,2)"
   ]
  },
  {
   "cell_type": "code",
   "execution_count": 56,
   "metadata": {},
   "outputs": [],
   "source": [
    "q34f=q34*100"
   ]
  },
  {
   "cell_type": "code",
   "execution_count": 57,
   "metadata": {},
   "outputs": [],
   "source": [
    "q34f.drop(index=[\"Q34_6\"],inplace=True)"
   ]
  },
  {
   "cell_type": "code",
   "execution_count": 58,
   "metadata": {},
   "outputs": [
    {
     "data": {
      "text/plain": [
       "Q34_1        52.0\n",
       "Q34_2        18.0\n",
       "Q34_3        16.0\n",
       "Q34_4        25.0\n",
       "Q34_5        52.0\n",
       "Q34_other     4.0\n",
       "dtype: float64"
      ]
     },
     "execution_count": 58,
     "metadata": {},
     "output_type": "execute_result"
    }
   ],
   "source": [
    "q34f"
   ]
  },
  {
   "cell_type": "code",
   "execution_count": 59,
   "metadata": {},
   "outputs": [
    {
     "data": {
      "image/png": "[encoded data removed]",
      "text/plain": [
       "<Figure size 432x288 with 1 Axes>"
      ]
     },
     "metadata": {
      "needs_background": "light"
     },
     "output_type": "display_data"
    }
   ],
   "source": [
    "df=q34f\n",
    "# Array of the values you want to plot\n",
    "dataVar1 = df.values\n",
    "# XMain: array with the names for each question \n",
    "xMain = df.index\n",
    "\n",
    "category_colors = plt.get_cmap('YlGnBu')(np.linspace(0, 1,9))\n",
    "\n",
    "# Choose width of bars: width\n",
    "height=0.5\n",
    "\n",
    "# Plot data for each array: \n",
    "p1 = plt.barh(xMain, \n",
    "            dataVar1, \n",
    "            height=height,\n",
    "            color=category_colors[5])\n",
    "# Adding names to each bar: \n",
    "plt.yticks(xMain,('Current phone is not working', 'Design of the new phone', 'Got bored with my current phone', \"Don't like specific features of my current phone\", 'new capabilities of the new phone',\"other\"),rotation=0,ha=\"right\",fontsize=9)\n",
    "\n",
    "# Order of questions: if a eliminate this code, the first row (ex. 1 question) will appear at the bottom\n",
    "plt.gca().invert_yaxis()\n",
    "\n",
    "# Eliminating borders: spines\n",
    "plt.gca().spines['top'].set_visible(False)\n",
    "plt.gca().spines['right'].set_visible(False)\n",
    "plt.gca().spines['left'].set_visible(False)\n",
    "plt.gca().spines['bottom'].set_visible(False)\n",
    "\n",
    "# Adding grey vertical lines in the plot\n",
    "plt.grid(color='#95a5a6', linestyle='--', linewidth=0.8, axis='x', alpha=0.3)\n",
    "\n",
    "#plt.legend(bbox_to_anchor=(1,1), loc=\"upper left\")\n",
    "plt.title(\"Which of the following impacts your decision to upgrade to a new phone? (Please select all that apply)\",fontweight=\"bold\")\n",
    "plt.xlabel(\"Percentage of respondents\")\n",
    "#plt.show()\n",
    "\n",
    "# show the graph\n",
    "#plt.savefig('output_fig.png')\n",
    "path='graphs\\\\q34'\n",
    "# show the graph\n",
    "plt.savefig(path+'.png',bbox_inches=\"tight\")\n"
   ]
  },
  {
   "cell_type": "code",
   "execution_count": 60,
   "metadata": {},
   "outputs": [
    {
     "data": {
      "text/plain": [
       "18-34    598\n",
       "35-55    499\n",
       "55 >      82\n",
       "18 <      23\n",
       "Name: age_categories, dtype: int64"
      ]
     },
     "execution_count": 60,
     "metadata": {},
     "output_type": "execute_result"
    }
   ],
   "source": [
    "survey.loc[(survey['Q17']==1),\"age_categories\"].value_counts()"
   ]
  },
  {
   "cell_type": "code",
   "execution_count": 61,
   "metadata": {},
   "outputs": [],
   "source": [
    "age_groups=[\"18-34\",\"35-55\",\"55 >\"]\n",
    "survey_q34_columns=['Q34_1', 'Q34_2', 'Q34_3', 'Q34_4', 'Q34_5', 'Q34_6', 'Q34_6_TEXT']\n",
    "\n",
    "dic_q34={}\n",
    "for i in age_groups: \n",
    "    q34_age=survey.loc[(survey['Q17']==1) & (survey['age_categories']==i),survey_q34_columns]\n",
    "    # replacing the variable containing text by 1:\n",
    "    q34_age[\"Q34_6_TEXT\"].fillna(0,inplace=True)\n",
    "    q34_age[\"Q34_other\"]=1\n",
    "    q34_age.loc[q34_age[\"Q34_6_TEXT\"]==0,\"Q34_other\"]=0\n",
    "    q34_age=q34_age.sum()\n",
    "    q34_age.drop(index=[\"Q34_6\"],inplace=True)\n",
    "    dic_q34[i]=q34_age"
   ]
  },
  {
   "cell_type": "code",
   "execution_count": 62,
   "metadata": {},
   "outputs": [
    {
     "data": {
      "image/png": "[encoded data removed]",
      "text/plain": [
       "<Figure size 432x288 with 1 Axes>"
      ]
     },
     "metadata": {
      "needs_background": "light"
     },
     "output_type": "display_data"
    }
   ],
   "source": [
    "# Array of the values you want to plot for each group\n",
    "df1=round(dic_q34[\"18-34\"]/598,2)*100\n",
    "dataVar1 = df1.values\n",
    "\n",
    "df2=round(dic_q34[\"35-55\"]/499,2)*100\n",
    "dataVar2 = df2.values\n",
    "\n",
    "df3=round(dic_q34[\"55 >\"]/82,2)*100\n",
    "dataVar3 = df3.values\n",
    "\n",
    "# XMain: array with length of the number of bars. EX. 9 subquestions, 9 x ticks.\n",
    "xMain = np.arange(len(df1.index)) \n",
    "\n",
    "category_colors = plt.get_cmap('YlGnBu')(np.linspace(0, 1,9))\n",
    "\n",
    "# Choose width of bars: width\n",
    "height=0.20\n",
    "\n",
    "# Plot data for each array: \n",
    "p1 = plt.barh((xMain - 0.20), \n",
    "            dataVar1,\n",
    "            height=height,\n",
    "            color=[category_colors[3]],label=\"18-34\")\n",
    "p2 = plt.barh(xMain, \n",
    "            dataVar2, \n",
    "            height=height, \n",
    "            color=[category_colors[5]],label=\"35-55\")\n",
    "p3 = plt.barh((xMain + 0.20), \n",
    "            dataVar3, \n",
    "            height=height, \n",
    "            color=[category_colors[7]],label=\"55 >\")\n",
    "\n",
    "\n",
    "# Adding names to each bar: \n",
    "plt.yticks(xMain,('Current phone is not working', 'Design of the new phone', \n",
    "                'Got bored with my current phone', \"Don't like specific features of my current phone\", \n",
    "                'New capabilities of the new phone',\"other\"),rotation=0,ha=\"right\",fontsize=9)\n",
    "# Order of questions: if a eliminate this code, the first row (ex. 1 question) will appear at the bottom\n",
    "plt.gca().invert_yaxis()\n",
    "\n",
    "# Eliminating borders: spines\n",
    "plt.gca().spines['top'].set_visible(False)\n",
    "plt.gca().spines['right'].set_visible(False)\n",
    "plt.gca().spines['left'].set_visible(False)\n",
    "plt.gca().spines['bottom'].set_visible(False)\n",
    "\n",
    "# Adding grey vertical lines in the plot\n",
    "plt.grid(color='#95a5a6', linestyle='--', linewidth=0.8, axis='x', alpha=0.3)\n",
    "\n",
    "#legend format: \n",
    "leg=plt.legend(bbox_to_anchor=(1,1), loc=\"upper left\")\n",
    "leg.get_frame().set_linewidth(0.0)\n",
    "plt.gca().xaxis.set_major_formatter(mtick.PercentFormatter(xmax=100))\n",
    "\n",
    "plt.title(\"Reasons to acquire a new phone (Please select all that apply)\",fontweight=\"bold\")\n",
    "\n",
    "path='graphs\\\\q34_age'\n",
    "# show the graph\n",
    "plt.savefig(path+'.png',bbox_inches=\"tight\")\n",
    "\n",
    "\n",
    "#plt.show()\n",
    "\n",
    "# show the graph\n",
    "plt.savefig('output_fig.png')"
   ]
  },
  {
   "cell_type": "markdown",
   "metadata": {},
   "source": [
    "**Q33 How influential are the following in helping you choose a new phone?**\n",
    "- Universe is all the respondents, even if they have or not a smartphone"
   ]
  },
  {
   "cell_type": "code",
   "execution_count": 63,
   "metadata": {},
   "outputs": [],
   "source": [
    "survey_q33_columns=['Q33_1', 'Q33_2', 'Q33_3', 'Q33_4', 'Q33_5', 'Q33_6', 'Q33_7', 'Q33_8']\n",
    "survey_q33=survey_text.loc[:,survey_q33_columns]"
   ]
  },
  {
   "cell_type": "code",
   "execution_count": 64,
   "metadata": {},
   "outputs": [],
   "source": [
    "q33_dic={}\n",
    "for i in survey_q33_columns:\n",
    "    q33_sq=survey_q33[i].value_counts(normalize=True).reindex(index=['Not influential','Somewhat influential','Very influential'])\n",
    "    q33_dic[i]=q33_sq"
   ]
  },
  {
   "cell_type": "code",
   "execution_count": 65,
   "metadata": {},
   "outputs": [],
   "source": [
    "q33_df=pd.concat([q33_dic[\"Q33_1\"],q33_dic[\"Q33_2\"],q33_dic[\"Q33_3\"],q33_dic[\"Q33_4\"],q33_dic[\"Q33_5\"],q33_dic[\"Q33_6\"],q33_dic[\"Q33_7\"],q33_dic[\"Q33_8\"]],axis=1)"
   ]
  },
  {
   "cell_type": "code",
   "execution_count": 66,
   "metadata": {},
   "outputs": [],
   "source": [
    "q33_f=round(q33_df*100,2)"
   ]
  },
  {
   "cell_type": "code",
   "execution_count": 67,
   "metadata": {},
   "outputs": [],
   "source": [
    "q33_f.rename(columns={\"Q33_1\":'Friends and/ or colleagues', \"Q33_2\":'Family', \n",
    "                       \"Q33_3\":'Experts(reviews)', \"Q33_4\":'Buyers (reviews)', \"Q33_5\":'Advertising',\n",
    "                       \"Q33_6\":\"Price\",\"Q33_7\":\"Store\",\"Q33_8\":\"Brand\"},inplace=True)"
   ]
  },
  {
   "cell_type": "code",
   "execution_count": 68,
   "metadata": {},
   "outputs": [
    {
     "data": {
      "text/html": [
       "<div>\n",
       "<style scoped>\n",
       "    .dataframe tbody tr th:only-of-type {\n",
       "        vertical-align: middle;\n",
       "    }\n",
       "\n",
       "    .dataframe tbody tr th {\n",
       "        vertical-align: top;\n",
       "    }\n",
       "\n",
       "    .dataframe thead th {\n",
       "        text-align: right;\n",
       "    }\n",
       "</style>\n",
       "<table border=\"1\" class=\"dataframe\">\n",
       "  <thead>\n",
       "    <tr style=\"text-align: right;\">\n",
       "      <th></th>\n",
       "      <th>Not influential</th>\n",
       "      <th>Somewhat influential</th>\n",
       "      <th>Very influential</th>\n",
       "    </tr>\n",
       "  </thead>\n",
       "  <tbody>\n",
       "    <tr>\n",
       "      <th>Friends and/ or colleagues</th>\n",
       "      <td>21.93</td>\n",
       "      <td>49.26</td>\n",
       "      <td>28.82</td>\n",
       "    </tr>\n",
       "    <tr>\n",
       "      <th>Family</th>\n",
       "      <td>37.12</td>\n",
       "      <td>49.80</td>\n",
       "      <td>13.08</td>\n",
       "    </tr>\n",
       "    <tr>\n",
       "      <th>Experts(reviews)</th>\n",
       "      <td>56.85</td>\n",
       "      <td>30.38</td>\n",
       "      <td>12.76</td>\n",
       "    </tr>\n",
       "    <tr>\n",
       "      <th>Buyers (reviews)</th>\n",
       "      <td>38.82</td>\n",
       "      <td>46.61</td>\n",
       "      <td>14.58</td>\n",
       "    </tr>\n",
       "    <tr>\n",
       "      <th>Advertising</th>\n",
       "      <td>56.30</td>\n",
       "      <td>30.54</td>\n",
       "      <td>13.16</td>\n",
       "    </tr>\n",
       "    <tr>\n",
       "      <th>Price</th>\n",
       "      <td>11.15</td>\n",
       "      <td>28.76</td>\n",
       "      <td>60.09</td>\n",
       "    </tr>\n",
       "    <tr>\n",
       "      <th>Store</th>\n",
       "      <td>36.10</td>\n",
       "      <td>50.67</td>\n",
       "      <td>13.23</td>\n",
       "    </tr>\n",
       "    <tr>\n",
       "      <th>Brand</th>\n",
       "      <td>23.18</td>\n",
       "      <td>41.74</td>\n",
       "      <td>35.08</td>\n",
       "    </tr>\n",
       "  </tbody>\n",
       "</table>\n",
       "</div>"
      ],
      "text/plain": [
       "                            Not influential  Somewhat influential  \\\n",
       "Friends and/ or colleagues            21.93                 49.26   \n",
       "Family                                37.12                 49.80   \n",
       "Experts(reviews)                      56.85                 30.38   \n",
       "Buyers (reviews)                      38.82                 46.61   \n",
       "Advertising                           56.30                 30.54   \n",
       "Price                                 11.15                 28.76   \n",
       "Store                                 36.10                 50.67   \n",
       "Brand                                 23.18                 41.74   \n",
       "\n",
       "                            Very influential  \n",
       "Friends and/ or colleagues             28.82  \n",
       "Family                                 13.08  \n",
       "Experts(reviews)                       12.76  \n",
       "Buyers (reviews)                       14.58  \n",
       "Advertising                            13.16  \n",
       "Price                                  60.09  \n",
       "Store                                  13.23  \n",
       "Brand                                  35.08  "
      ]
     },
     "execution_count": 68,
     "metadata": {},
     "output_type": "execute_result"
    }
   ],
   "source": [
    "q33_f=q33_f.transpose()\n",
    "q33_f"
   ]
  },
  {
   "cell_type": "code",
   "execution_count": 405,
   "metadata": {},
   "outputs": [
    {
     "data": {
      "image/png": "[encoded data removed]",
      "text/plain": [
       "<Figure size 432x288 with 1 Axes>"
      ]
     },
     "metadata": {
      "needs_background": "light"
     },
     "output_type": "display_data"
    }
   ],
   "source": [
    "category_colors = plt.get_cmap('PuBuGn')(np.linspace(0.4, 1,17))\n",
    "\n",
    "colorlist=[category_colors[1],category_colors[10],category_colors[16]]\n",
    "\n",
    "\n",
    "q33_f.plot.barh(stacked=True,color=colorlist)\n",
    "plt.gca().spines['top'].set_visible(False)\n",
    "plt.gca().spines['right'].set_visible(False)\n",
    "plt.gca().spines['left'].set_visible(False)\n",
    "plt.gca().spines['bottom'].set_visible(False)\n",
    "plt.title(\"Factors influencing the selection of a new phone\",fontweight=\"bold\")\n",
    "\n",
    "# Order of questions: if a eliminate this code, the first row (ex. 1 question) will appear at the bottom\n",
    "plt.gca().invert_yaxis()\n",
    "# Adding grey vertical lines in the plot\n",
    "plt.grid(color='#95a5a6', linestyle='--', linewidth=0.8, axis='x', alpha=0.3)\n",
    "\n",
    "#legend format: \n",
    "leg=plt.legend(bbox_to_anchor=(1,1), loc=\"upper left\")\n",
    "leg.get_frame().set_linewidth(0.0)\n",
    "\n",
    "plt.xticks(rotation=0,ha=\"center\",fontsize=9)\n",
    "#plt.show()\n",
    "\n",
    "path='graphs\\\\q33'\n",
    "# show the graph\n",
    "plt.savefig(path+'.png',bbox_inches=\"tight\")\n"
   ]
  },
  {
   "cell_type": "code",
   "execution_count": 69,
   "metadata": {},
   "outputs": [],
   "source": [
    "# defining data q33 for each age_group: \n",
    "survey_q33_columns=['Q33_1', 'Q33_2', 'Q33_3', 'Q33_4', 'Q33_5', 'Q33_6', 'Q33_7', 'Q33_8']\n",
    "\n",
    "survey_q33_18_34=g_18_34.loc[:,survey_q33_columns]\n",
    "survey_q33_35_55=g_35_55.loc[:,survey_q33_columns]\n",
    "survey_q33_55=g_55.loc[:,survey_q33_columns]"
   ]
  },
  {
   "cell_type": "code",
   "execution_count": 70,
   "metadata": {},
   "outputs": [],
   "source": [
    "# Calculating percentages and answers for each group: \n",
    "q33_18_34={}\n",
    "for i in survey_q33_columns:\n",
    "    q33_sq=survey_q33_18_34[i].value_counts(normalize=True).reindex(index=['Not influential','Somewhat influential','Very influential'])\n",
    "    q33_18_34[i]=q33_sq\n",
    "q33_18_34=pd.concat([q33_18_34[\"Q33_1\"],q33_18_34[\"Q33_2\"],q33_18_34[\"Q33_3\"],q33_18_34[\"Q33_4\"],q33_18_34[\"Q33_5\"],q33_18_34[\"Q33_6\"],q33_18_34[\"Q33_7\"],q33_18_34[\"Q33_8\"]],axis=1)"
   ]
  },
  {
   "cell_type": "code",
   "execution_count": 71,
   "metadata": {},
   "outputs": [],
   "source": [
    "q33_35_55={}\n",
    "for i in survey_q33_columns:\n",
    "    q33_sq=survey_q33_35_55[i].value_counts(normalize=True).reindex(index=['Not influential','Somewhat influential','Very influential'])\n",
    "    q33_35_55[i]=q33_sq\n",
    "q33_35_55=pd.concat([q33_35_55[\"Q33_1\"],q33_35_55[\"Q33_2\"],q33_35_55[\"Q33_3\"],q33_35_55[\"Q33_4\"],q33_35_55[\"Q33_5\"],q33_35_55[\"Q33_6\"],q33_35_55[\"Q33_7\"],q33_35_55[\"Q33_8\"]],axis=1)"
   ]
  },
  {
   "cell_type": "code",
   "execution_count": 72,
   "metadata": {},
   "outputs": [],
   "source": [
    "q33_55={}\n",
    "for i in survey_q33_columns:\n",
    "    q33_sq=survey_q33_55[i].value_counts(normalize=True).reindex(index=['Not influential','Somewhat influential','Very influential'])\n",
    "    q33_55[i]=q33_sq\n",
    "q33_55=pd.concat([q33_55[\"Q33_1\"],q33_55[\"Q33_2\"],q33_55[\"Q33_3\"],q33_55[\"Q33_4\"],q33_55[\"Q33_5\"],q33_55[\"Q33_6\"],q33_55[\"Q33_7\"],q33_55[\"Q33_8\"]],axis=1)"
   ]
  },
  {
   "cell_type": "code",
   "execution_count": 74,
   "metadata": {},
   "outputs": [
    {
     "data": {
      "text/html": [
       "<div>\n",
       "<style scoped>\n",
       "    .dataframe tbody tr th:only-of-type {\n",
       "        vertical-align: middle;\n",
       "    }\n",
       "\n",
       "    .dataframe tbody tr th {\n",
       "        vertical-align: top;\n",
       "    }\n",
       "\n",
       "    .dataframe thead th {\n",
       "        text-align: right;\n",
       "    }\n",
       "</style>\n",
       "<table border=\"1\" class=\"dataframe\">\n",
       "  <thead>\n",
       "    <tr style=\"text-align: right;\">\n",
       "      <th></th>\n",
       "      <th>Not influential</th>\n",
       "      <th>Somewhat influential</th>\n",
       "      <th>Very influential</th>\n",
       "    </tr>\n",
       "  </thead>\n",
       "  <tbody>\n",
       "    <tr>\n",
       "      <th>18-34</th>\n",
       "      <td>22.64</td>\n",
       "      <td>51.01</td>\n",
       "      <td>26.35</td>\n",
       "    </tr>\n",
       "    <tr>\n",
       "      <th>35-55</th>\n",
       "      <td>22.04</td>\n",
       "      <td>52.60</td>\n",
       "      <td>25.36</td>\n",
       "    </tr>\n",
       "    <tr>\n",
       "      <th>55 &gt;</th>\n",
       "      <td>19.51</td>\n",
       "      <td>51.22</td>\n",
       "      <td>29.27</td>\n",
       "    </tr>\n",
       "  </tbody>\n",
       "</table>\n",
       "</div>"
      ],
      "text/plain": [
       "       Not influential  Somewhat influential  Very influential\n",
       "18-34            22.64                 51.01             26.35\n",
       "35-55            22.04                 52.60             25.36\n",
       "55 >             19.51                 51.22             29.27"
      ]
     },
     "execution_count": 74,
     "metadata": {},
     "output_type": "execute_result"
    }
   ],
   "source": [
    "# Choosing the questions we are gonna plot:\n",
    "df_q1=pd.concat([q33_18_34[\"Q33_1\"],q33_35_55[\"Q33_1\"],q33_55[\"Q33_1\"]],axis=1)\n",
    "df_q1.columns = [ '18-34', '35-55', '55 >' ]\n",
    "df_q1=round(df_q1*100,2).transpose()\n",
    "df_q1"
   ]
  },
  {
   "cell_type": "code",
   "execution_count": 75,
   "metadata": {},
   "outputs": [
    {
     "data": {
      "text/html": [
       "<div>\n",
       "<style scoped>\n",
       "    .dataframe tbody tr th:only-of-type {\n",
       "        vertical-align: middle;\n",
       "    }\n",
       "\n",
       "    .dataframe tbody tr th {\n",
       "        vertical-align: top;\n",
       "    }\n",
       "\n",
       "    .dataframe thead th {\n",
       "        text-align: right;\n",
       "    }\n",
       "</style>\n",
       "<table border=\"1\" class=\"dataframe\">\n",
       "  <thead>\n",
       "    <tr style=\"text-align: right;\">\n",
       "      <th></th>\n",
       "      <th>Not influential</th>\n",
       "      <th>Somewhat influential</th>\n",
       "      <th>Very influential</th>\n",
       "    </tr>\n",
       "  </thead>\n",
       "  <tbody>\n",
       "    <tr>\n",
       "      <th>18-34</th>\n",
       "      <td>58.45</td>\n",
       "      <td>30.07</td>\n",
       "      <td>11.49</td>\n",
       "    </tr>\n",
       "    <tr>\n",
       "      <th>35-55</th>\n",
       "      <td>58.21</td>\n",
       "      <td>33.68</td>\n",
       "      <td>8.11</td>\n",
       "    </tr>\n",
       "    <tr>\n",
       "      <th>55 &gt;</th>\n",
       "      <td>65.85</td>\n",
       "      <td>30.49</td>\n",
       "      <td>3.66</td>\n",
       "    </tr>\n",
       "  </tbody>\n",
       "</table>\n",
       "</div>"
      ],
      "text/plain": [
       "       Not influential  Somewhat influential  Very influential\n",
       "18-34            58.45                 30.07             11.49\n",
       "35-55            58.21                 33.68              8.11\n",
       "55 >             65.85                 30.49              3.66"
      ]
     },
     "execution_count": 75,
     "metadata": {},
     "output_type": "execute_result"
    }
   ],
   "source": [
    "# Choosing the questions we are gonna plot:\n",
    "df_q5=pd.concat([q33_18_34[\"Q33_5\"],q33_35_55[\"Q33_5\"],q33_55[\"Q33_5\"]],axis=1)\n",
    "df_q5.columns = [ '18-34', '35-55', '55 >' ]\n",
    "df_q5=round(df_q5*100,2).transpose()\n",
    "df_q5"
   ]
  },
  {
   "cell_type": "code",
   "execution_count": 76,
   "metadata": {},
   "outputs": [
    {
     "data": {
      "text/html": [
       "<div>\n",
       "<style scoped>\n",
       "    .dataframe tbody tr th:only-of-type {\n",
       "        vertical-align: middle;\n",
       "    }\n",
       "\n",
       "    .dataframe tbody tr th {\n",
       "        vertical-align: top;\n",
       "    }\n",
       "\n",
       "    .dataframe thead th {\n",
       "        text-align: right;\n",
       "    }\n",
       "</style>\n",
       "<table border=\"1\" class=\"dataframe\">\n",
       "  <thead>\n",
       "    <tr style=\"text-align: right;\">\n",
       "      <th></th>\n",
       "      <th>Not influential</th>\n",
       "      <th>Somewhat influential</th>\n",
       "      <th>Very influential</th>\n",
       "    </tr>\n",
       "  </thead>\n",
       "  <tbody>\n",
       "    <tr>\n",
       "      <th>18-34</th>\n",
       "      <td>9.46</td>\n",
       "      <td>27.03</td>\n",
       "      <td>63.51</td>\n",
       "    </tr>\n",
       "    <tr>\n",
       "      <th>35-55</th>\n",
       "      <td>12.53</td>\n",
       "      <td>34.50</td>\n",
       "      <td>52.98</td>\n",
       "    </tr>\n",
       "    <tr>\n",
       "      <th>55 &gt;</th>\n",
       "      <td>12.20</td>\n",
       "      <td>23.17</td>\n",
       "      <td>64.63</td>\n",
       "    </tr>\n",
       "  </tbody>\n",
       "</table>\n",
       "</div>"
      ],
      "text/plain": [
       "       Not influential  Somewhat influential  Very influential\n",
       "18-34             9.46                 27.03             63.51\n",
       "35-55            12.53                 34.50             52.98\n",
       "55 >             12.20                 23.17             64.63"
      ]
     },
     "execution_count": 76,
     "metadata": {},
     "output_type": "execute_result"
    }
   ],
   "source": [
    "# Choosing the questions we are gonna plot:\n",
    "df_q6=pd.concat([q33_18_34[\"Q33_6\"],q33_35_55[\"Q33_6\"],q33_55[\"Q33_6\"]],axis=1)\n",
    "df_q6.columns = [ '18-34', '35-55', '55 >' ]\n",
    "df_q6=round(df_q6*100,2).transpose()\n",
    "df_q6"
   ]
  },
  {
   "cell_type": "code",
   "execution_count": 77,
   "metadata": {},
   "outputs": [
    {
     "data": {
      "text/html": [
       "<div>\n",
       "<style scoped>\n",
       "    .dataframe tbody tr th:only-of-type {\n",
       "        vertical-align: middle;\n",
       "    }\n",
       "\n",
       "    .dataframe tbody tr th {\n",
       "        vertical-align: top;\n",
       "    }\n",
       "\n",
       "    .dataframe thead th {\n",
       "        text-align: right;\n",
       "    }\n",
       "</style>\n",
       "<table border=\"1\" class=\"dataframe\">\n",
       "  <thead>\n",
       "    <tr style=\"text-align: right;\">\n",
       "      <th></th>\n",
       "      <th>Not influential</th>\n",
       "      <th>Somewhat influential</th>\n",
       "      <th>Very influential</th>\n",
       "    </tr>\n",
       "  </thead>\n",
       "  <tbody>\n",
       "    <tr>\n",
       "      <th>18-34</th>\n",
       "      <td>26.01</td>\n",
       "      <td>42.23</td>\n",
       "      <td>31.76</td>\n",
       "    </tr>\n",
       "    <tr>\n",
       "      <th>35-55</th>\n",
       "      <td>18.92</td>\n",
       "      <td>48.02</td>\n",
       "      <td>33.06</td>\n",
       "    </tr>\n",
       "    <tr>\n",
       "      <th>55 &gt;</th>\n",
       "      <td>28.05</td>\n",
       "      <td>36.59</td>\n",
       "      <td>35.37</td>\n",
       "    </tr>\n",
       "  </tbody>\n",
       "</table>\n",
       "</div>"
      ],
      "text/plain": [
       "       Not influential  Somewhat influential  Very influential\n",
       "18-34            26.01                 42.23             31.76\n",
       "35-55            18.92                 48.02             33.06\n",
       "55 >             28.05                 36.59             35.37"
      ]
     },
     "execution_count": 77,
     "metadata": {},
     "output_type": "execute_result"
    }
   ],
   "source": [
    "# Choosing the questions we are gonna plot:\n",
    "df_q8=pd.concat([q33_18_34[\"Q33_8\"],q33_35_55[\"Q33_8\"],q33_55[\"Q33_8\"]],axis=1)\n",
    "df_q8.columns = [ '18-34', '35-55', '55 >' ]\n",
    "df_q8=round(df_q8*100,2).transpose()\n",
    "df_q8"
   ]
  },
  {
   "cell_type": "code",
   "execution_count": 78,
   "metadata": {},
   "outputs": [
    {
     "data": {
      "image/png": "[encoded data removed]",
      "text/plain": [
       "<Figure size 576x288 with 4 Axes>"
      ]
     },
     "metadata": {
      "needs_background": "light"
     },
     "output_type": "display_data"
    }
   ],
   "source": [
    "category_colors = plt.get_cmap('PuBuGn')(np.linspace(0.4, 1,17))\n",
    "\n",
    "colorlist=[category_colors[1],category_colors[10],category_colors[16]]\n",
    "\n",
    "\n",
    "fig, axarr = plt.subplots(2, 2, figsize=(8, 4),sharex=False,sharey=False)\n",
    "fig.suptitle('Factors influencing the selection of a new phone',fontweight=\"bold\",y=1.05)\n",
    "\n",
    "df_q1.plot.barh(stacked=True,width=0.4,color=colorlist,ax=axarr[0][0])\n",
    "axarr[0][0].set(frame_on=False)\n",
    "axarr[0][0].invert_yaxis()\n",
    "axarr[0][0].get_legend().remove()\n",
    "axarr[0][0].title.set_text('Friends and/ or colleagues')\n",
    "axarr[0][0].grid(color='#95a5a6', linestyle='--', linewidth=0.8, axis='x', alpha=0.3)\n",
    "axarr[0][0].xaxis.set_ticklabels([])\n",
    "axarr[0][0].xaxis.set_ticks_position('none')\n",
    "\n",
    "df_q5.plot.barh(stacked=True,width=0.4,color=colorlist,ax=axarr[0][1])\n",
    "axarr[0][1].set(frame_on=False) \n",
    "axarr[0][1].invert_yaxis()\n",
    "axarr[0][1].get_legend().remove()\n",
    "axarr[0][1].title.set_text(\"Advertising\")\n",
    "axarr[0][1].grid(color='#95a5a6', linestyle='--', linewidth=0.8, axis='x', alpha=0.3)\n",
    "axarr[0][1].xaxis.set_ticklabels([])\n",
    "axarr[0][1].yaxis.set_ticklabels([])\n",
    "axarr[0][1].xaxis.set_ticks_position('none')\n",
    "axarr[0][1].yaxis.set_ticks_position('none')\n",
    "leg=axarr[0][1].legend(bbox_to_anchor=(1,1), loc=\"upper left\")\n",
    "leg.get_frame().set_linewidth(0.0)\n",
    "\n",
    "df_q6.plot.barh(stacked=True,width=0.4,color=colorlist,ax=axarr[1][0])\n",
    "axarr[1][0].set(frame_on=False) \n",
    "axarr[1][0].invert_yaxis()\n",
    "axarr[1][0].get_legend().remove()\n",
    "axarr[1][0].title.set_text(\"Price\")\n",
    "axarr[1][0].grid(color='#95a5a6', linestyle='--', linewidth=0.8, axis='x', alpha=0.3)\n",
    "\n",
    "df_q8.plot.barh(stacked=True,width=0.4,color=colorlist,ax=axarr[1][1])\n",
    "axarr[1][1].set(frame_on=False) \n",
    "axarr[1][1].invert_yaxis()\n",
    "axarr[1][1].get_legend().remove()\n",
    "axarr[1][1].title.set_text(\"Brand\")\n",
    "axarr[1][1].yaxis.set_ticks([])\n",
    "axarr[1][1].grid(color='#95a5a6', linestyle='--', linewidth=0.8, axis='x', alpha=0.3)\n",
    "\n",
    "plt.subplots_adjust(wspace=0.01, hspace=0.09)\n",
    "#plt.show()\n",
    "\n",
    "path='graphs\\\\q33_age'\n",
    "# show the graph\n",
    "plt.savefig(path+'.png',bbox_inches=\"tight\")"
   ]
  },
  {
   "cell_type": "markdown",
   "metadata": {},
   "source": [
    "**Q20 The below phones cost more than 90% of the phones in the market. Which would you be most willing to buy?**"
   ]
  },
  {
   "cell_type": "code",
   "execution_count": 79,
   "metadata": {},
   "outputs": [],
   "source": [
    "q20=survey.loc[:,\"Q20\"].value_counts(normalize=True)*100"
   ]
  },
  {
   "cell_type": "code",
   "execution_count": 80,
   "metadata": {},
   "outputs": [],
   "source": [
    "q20=round(q20,2)"
   ]
  },
  {
   "cell_type": "code",
   "execution_count": 81,
   "metadata": {},
   "outputs": [],
   "source": [
    "q20=q20.reset_index()"
   ]
  },
  {
   "cell_type": "code",
   "execution_count": 82,
   "metadata": {},
   "outputs": [
    {
     "data": {
      "text/html": [
       "<div>\n",
       "<style scoped>\n",
       "    .dataframe tbody tr th:only-of-type {\n",
       "        vertical-align: middle;\n",
       "    }\n",
       "\n",
       "    .dataframe tbody tr th {\n",
       "        vertical-align: top;\n",
       "    }\n",
       "\n",
       "    .dataframe thead th {\n",
       "        text-align: right;\n",
       "    }\n",
       "</style>\n",
       "<table border=\"1\" class=\"dataframe\">\n",
       "  <thead>\n",
       "    <tr style=\"text-align: right;\">\n",
       "      <th></th>\n",
       "      <th>index</th>\n",
       "      <th>Q20</th>\n",
       "      <th>index_numeric</th>\n",
       "    </tr>\n",
       "  </thead>\n",
       "  <tbody>\n",
       "    <tr>\n",
       "      <th>0</th>\n",
       "      <td>4</td>\n",
       "      <td>34.29</td>\n",
       "      <td>4</td>\n",
       "    </tr>\n",
       "    <tr>\n",
       "      <th>1</th>\n",
       "      <td>3</td>\n",
       "      <td>21.67</td>\n",
       "      <td>3</td>\n",
       "    </tr>\n",
       "    <tr>\n",
       "      <th>2</th>\n",
       "      <td>1</td>\n",
       "      <td>20.19</td>\n",
       "      <td>1</td>\n",
       "    </tr>\n",
       "    <tr>\n",
       "      <th>3</th>\n",
       "      <td>2</td>\n",
       "      <td>14.34</td>\n",
       "      <td>2</td>\n",
       "    </tr>\n",
       "    <tr>\n",
       "      <th>4</th>\n",
       "      <td>5</td>\n",
       "      <td>9.51</td>\n",
       "      <td>5</td>\n",
       "    </tr>\n",
       "  </tbody>\n",
       "</table>\n",
       "</div>"
      ],
      "text/plain": [
       "   index    Q20 index_numeric\n",
       "0      4  34.29             4\n",
       "1      3  21.67             3\n",
       "2      1  20.19             1\n",
       "3      2  14.34             2\n",
       "4      5   9.51             5"
      ]
     },
     "execution_count": 82,
     "metadata": {},
     "output_type": "execute_result"
    }
   ],
   "source": [
    "q20[\"index_numeric\"]=[\"4\",\"3\",\"1\",\"2\",\"5\"]\n",
    "q20"
   ]
  },
  {
   "cell_type": "code",
   "execution_count": 83,
   "metadata": {},
   "outputs": [
    {
     "data": {
      "image/png": "[encoded data removed]",
      "text/plain": [
       "<Figure size 432x288 with 1 Axes>"
      ]
     },
     "metadata": {
      "needs_background": "light"
     },
     "output_type": "display_data"
    }
   ],
   "source": [
    "df=q20\n",
    "# Array of the values you want to plot\n",
    "dataVar1 = df[\"Q20\"]\n",
    "# XMain: array with the names for each question \n",
    "xMain = df[\"index_numeric\"]\n",
    "\n",
    "category_colors = plt.get_cmap('PuBuGn')(np.linspace(0.4, 1,12))\n",
    "\n",
    "# Choose width of bars: width\n",
    "height=0.5\n",
    "\n",
    "# Plot data for each array: \n",
    "p1 = plt.barh(xMain, \n",
    "            dataVar1,\n",
    "            height=height,\n",
    "            color=[category_colors[11],category_colors[5],category_colors[5],category_colors[5],category_colors[5]])\n",
    "\n",
    "# Adding names to each bar: \n",
    "labels=(\"No interest to buy a phone at that price\",\" Best camera, battery life, and wireless reception\",\"Best camera, durability, and stylish design\",\"Best wireless reception, durability, and long battery life\",\"No interest for the feature choice combinations suggested\")\n",
    "plt.yticks(xMain,(labels),rotation=0,ha=\"right\",fontsize=9)\n",
    "\n",
    "# Order of questions: if a eliminate this code, the first row (ex. 1 question) will appear at the bottom\n",
    "plt.gca().invert_yaxis()\n",
    "\n",
    "# Eliminating borders: spines\n",
    "plt.gca().spines['top'].set_visible(False)\n",
    "plt.gca().spines['right'].set_visible(False)\n",
    "plt.gca().spines['left'].set_visible(False)\n",
    "plt.gca().spines['bottom'].set_visible(False)\n",
    "\n",
    "# Adding grey vertical lines in the plot\n",
    "plt.grid(color='#95a5a6', linestyle='--', linewidth=0.8, axis='x', alpha=0.3)\n",
    "\n",
    "#plt.legend(bbox_to_anchor=(1,1), loc=\"upper left\")\n",
    "plt.suptitle('Which phone and characteristics would you be most willing to buy,',fontweight=\"bold\",y=1.02)\n",
    "plt.title(\"even if it costs more than 90% of the phones in the market?\",fontweight=\"bold\" )\n",
    "\n",
    "\n",
    "plt.gca().xaxis.set_major_formatter(mtick.PercentFormatter(xmax=100))\n",
    "#plt.show()\n",
    "\n",
    "# show the graph\n",
    "#plt.savefig('output_fig.png')\n",
    "\n",
    "path='graphs\\\\q20'\n",
    "# show the graph\n",
    "plt.savefig(path+'.png',bbox_inches=\"tight\")\n"
   ]
  },
  {
   "cell_type": "markdown",
   "metadata": {},
   "source": [
    "**Q11 Which of the below attributes are most important to you in buying a new phone? Please select your top four (4) choices from the options below.**"
   ]
  },
  {
   "cell_type": "code",
   "execution_count": 84,
   "metadata": {},
   "outputs": [],
   "source": [
    "q11_survey=survey.iloc[:,54:64].sum().sort_values(ascending=False)"
   ]
  },
  {
   "cell_type": "code",
   "execution_count": 85,
   "metadata": {},
   "outputs": [
    {
     "data": {
      "text/plain": [
       "Index(['Q11_1', 'Q11_5', 'Q11_14', 'Q11_8', 'Q11_3', 'Q11_9', 'Q11_11',\n",
       "       'Q11_2', 'Q11_13', 'Q11_12'],\n",
       "      dtype='object')"
      ]
     },
     "execution_count": 85,
     "metadata": {},
     "output_type": "execute_result"
    }
   ],
   "source": [
    "q11_survey.index"
   ]
  },
  {
   "cell_type": "code",
   "execution_count": 86,
   "metadata": {},
   "outputs": [
    {
     "data": {
      "image/png": "[encoded data removed]",
      "text/plain": [
       "<Figure size 432x288 with 1 Axes>"
      ]
     },
     "metadata": {
      "needs_background": "light"
     },
     "output_type": "display_data"
    }
   ],
   "source": [
    "df=q11_survey\n",
    "# Array of the values you want to plot\n",
    "dataVar1 = df.values\n",
    "# XMain: array with the names for each question \n",
    "xMain = df.index\n",
    "\n",
    "category_colors = plt.get_cmap('PuBuGn')(np.linspace(0.4, 1,12))\n",
    "\n",
    "# Choose width of bars: width\n",
    "height=0.5\n",
    "\n",
    "colorlist=[category_colors[11],category_colors[11],\\\n",
    "           category_colors[8],category_colors[8],category_colors[8],category_colors[8],\\\n",
    "           category_colors[6],\\\n",
    "           category_colors[4],category_colors[4],\\\n",
    "           category_colors[1]]\n",
    "\n",
    "# Plot data for each array: \n",
    "p1 = plt.barh(xMain, \n",
    "            dataVar1,\n",
    "            height=height,\n",
    "            color=colorlist)\n",
    "\n",
    "# Adding names to each bar: \n",
    "labels=(\"Operating system\",\"Quality pics and videos\",\"Easy to share text, pics, and videos\",\"Lower cost\",\"Resistant to drops or water, and built to last\",\"Phone provider offers faster internet speed\",\"Compatibility phone with other devices\",\"Phone style and matching with personal image\",\"Best market battery life\",\"Security and privacy on data\")\n",
    "plt.yticks(xMain,(labels),rotation=0,ha=\"right\",fontsize=9)\n",
    "\n",
    "# Order of questions: if a eliminate this code, the first row (ex. 1 question) will appear at the bottom\n",
    "plt.gca().invert_yaxis()\n",
    "\n",
    "# Eliminating borders: spines\n",
    "plt.gca().spines['top'].set_visible(False)\n",
    "plt.gca().spines['right'].set_visible(False)\n",
    "plt.gca().spines['left'].set_visible(False)\n",
    "plt.gca().spines['bottom'].set_visible(False)\n",
    "\n",
    "# Adding grey vertical lines in the plot\n",
    "plt.grid(color='#95a5a6', linestyle='--', linewidth=0.8, axis='x', alpha=0.3)\n",
    "\n",
    "#plt.legend(bbox_to_anchor=(1,1), loc=\"upper left\")\n",
    "plt.title(\"Most important attributes in buying a new phone? Selection of top four (4) choices\",fontweight=\"bold\")\n",
    "plt.xlabel(\"Percentage of respondents\")\n",
    "#plt.show()\n",
    "\n",
    "# show the graph\n",
    "#plt.savefig('output_fig.png')\n",
    "path='graphs\\\\q11'\n",
    "# show the graph\n",
    "plt.savefig(path+'.png',bbox_inches=\"tight\")\n"
   ]
  },
  {
   "cell_type": "code",
   "execution_count": 87,
   "metadata": {},
   "outputs": [],
   "source": [
    "age_groups=[\"18-34\",\"35-55\",\"55 >\"]\n",
    "survey_q11_columns=['Q11_1', 'Q11_5', 'Q11_14', 'Q11_8', 'Q11_3', 'Q11_9', 'Q11_11','Q11_2', 'Q11_13', 'Q11_12']\n",
    "\n",
    "dic_q11={}\n",
    "for i in age_groups: \n",
    "    q11_age=survey.loc[(survey['age_categories']==i),survey_q11_columns]\n",
    "    q11_age=q11_age.sum()\n",
    "    dic_q11[i]=q11_age"
   ]
  },
  {
   "cell_type": "code",
   "execution_count": 88,
   "metadata": {},
   "outputs": [],
   "source": [
    "q11_18_34=dic_q11[\"18-34\"]\n",
    "q11_35_55=dic_q11[\"35-55\"]\n",
    "q11_55=dic_q11[\"55 >\"]"
   ]
  },
  {
   "cell_type": "code",
   "execution_count": 89,
   "metadata": {},
   "outputs": [
    {
     "data": {
      "text/plain": [
       "Index(['Q11_1', 'Q11_5', 'Q11_14', 'Q11_8', 'Q11_3', 'Q11_9', 'Q11_11',\n",
       "       'Q11_2', 'Q11_13', 'Q11_12'],\n",
       "      dtype='object')"
      ]
     },
     "execution_count": 89,
     "metadata": {},
     "output_type": "execute_result"
    }
   ],
   "source": [
    "q11_35_55.index"
   ]
  },
  {
   "cell_type": "code",
   "execution_count": 90,
   "metadata": {},
   "outputs": [
    {
     "data": {
      "text/plain": [
       "range(0, 10)"
      ]
     },
     "execution_count": 90,
     "metadata": {},
     "output_type": "execute_result"
    }
   ],
   "source": [
    "range(len(q11_18_34))"
   ]
  },
  {
   "cell_type": "code",
   "execution_count": 91,
   "metadata": {},
   "outputs": [
    {
     "data": {
      "text/plain": [
       "array([0, 1, 2, 3, 4, 5, 6, 7, 8, 9])"
      ]
     },
     "execution_count": 91,
     "metadata": {},
     "output_type": "execute_result"
    }
   ],
   "source": [
    "np.arange(len(q11_18_34))"
   ]
  },
  {
   "cell_type": "markdown",
   "metadata": {},
   "source": [
    "18-34    598\n",
    "35-55    499\n",
    "55+       82\n",
    "18-       23"
   ]
  },
  {
   "cell_type": "code",
   "execution_count": 92,
   "metadata": {},
   "outputs": [
    {
     "data": {
      "image/png": "[encoded data removed]",
      "text/plain": [
       "<Figure size 432x288 with 1 Axes>"
      ]
     },
     "metadata": {
      "needs_background": "light"
     },
     "output_type": "display_data"
    }
   ],
   "source": [
    "# Array of the values you want to plot\n",
    "Var1 = q11_18_34.values\n",
    "dataVar1 = np.round(Var1/598,2)*100\n",
    "Var2= q11_35_55.values\n",
    "dataVar2 = np.round(Var2/499,2)*100\n",
    "Var3 = q11_55.values\n",
    "dataVar3 = np.round(Var3/82,2)*100\n",
    "\n",
    "# XMain: array with the names for each question \n",
    "xMain =  np.arange(len(q11_18_34))\n",
    "\n",
    "category_colors = plt.get_cmap('YlGnBu')(np.linspace(0, 1,9))\n",
    "\n",
    "# Choose width of bars: width\n",
    "height=0.20\n",
    "\n",
    "# Plot data for each array: \n",
    "p1 = plt.barh((xMain - 0.20), \n",
    "            dataVar1,\n",
    "            height=height,\n",
    "            color=category_colors[3],label=\"18-34\")\n",
    "p2 = plt.barh(xMain, \n",
    "            dataVar2, \n",
    "            height=height, \n",
    "            color=category_colors[5],label=\"35-55\")\n",
    "p3 = plt.barh((xMain + 0.20), \n",
    "            dataVar3, \n",
    "            height=height, \n",
    "            color=category_colors[7],label=\"55 >\")\n",
    "\n",
    "# Adding names to each bar: \n",
    "#labels=(\"Operating system\",\"Quality pics and videos\",\"Easy to share text, pics, and videos\",\"Lower cost\",\"Resistant to drops or water, and built to last\",\"Phone provider offers faster internet speed\",\"Compatibility phone with other devices\",\"Phone style and matching with personal image\",\"Best market battery life\",\"Security and privacy on data\")\n",
    "plt.yticks(xMain,(labels),rotation=0,ha=\"right\",fontsize=9)\n",
    "\n",
    "# Order of questions: if a eliminate this code, the first row (ex. 1 question) will appear at the bottom\n",
    "plt.gca().invert_yaxis()\n",
    "\n",
    "# Eliminating borders: spines\n",
    "plt.gca().spines['top'].set_visible(False)\n",
    "plt.gca().spines['right'].set_visible(False)\n",
    "plt.gca().spines['left'].set_visible(False)\n",
    "plt.gca().spines['bottom'].set_visible(False)\n",
    "\n",
    "# Adding grey vertical lines in the plot\n",
    "plt.grid(color='#95a5a6', linestyle='--', linewidth=0.8, axis='x', alpha=0.3)\n",
    "\n",
    "#legend format: \n",
    "leg=plt.legend(bbox_to_anchor=(1,1), loc=\"upper left\")\n",
    "leg.get_frame().set_linewidth(0.0)\n",
    "plt.gca().xaxis.set_major_formatter(mtick.PercentFormatter(xmax=100))\n",
    "\n",
    "plt.suptitle('Attributes considered when buying a new phone',fontweight=\"bold\",y=1.02)\n",
    "plt.title(\"(respondents did 4 choices)\")\n",
    "#plt.show()\n",
    "\n",
    "# show the graph\n",
    "#plt.savefig('output_fig.png')\n",
    "\n",
    "#plt.savefig('output_fig.png')\n",
    "path='graphs\\\\q11_age'\n",
    "# show the graph\n",
    "plt.savefig(path+'.png',bbox_inches=\"tight\")"
   ]
  },
  {
   "cell_type": "markdown",
   "metadata": {},
   "source": [
    "**Q23: Say the 4 attributes you just selected exist in a phone. In fact, this phone is the best in all the attributes. How much would you be willing to pay to purchase this phone? Please**"
   ]
  },
  {
   "cell_type": "code",
   "execution_count": 93,
   "metadata": {},
   "outputs": [
    {
     "data": {
      "text/html": [
       "<div>\n",
       "<style scoped>\n",
       "    .dataframe tbody tr th:only-of-type {\n",
       "        vertical-align: middle;\n",
       "    }\n",
       "\n",
       "    .dataframe tbody tr th {\n",
       "        vertical-align: top;\n",
       "    }\n",
       "\n",
       "    .dataframe thead th {\n",
       "        text-align: right;\n",
       "    }\n",
       "</style>\n",
       "<table border=\"1\" class=\"dataframe\">\n",
       "  <thead>\n",
       "    <tr style=\"text-align: right;\">\n",
       "      <th></th>\n",
       "      <th>Q23_1</th>\n",
       "      <th>Q23_2</th>\n",
       "      <th>Q23_3</th>\n",
       "      <th>Q23_4</th>\n",
       "      <th>Q23_5</th>\n",
       "      <th>Q23_6</th>\n",
       "      <th>Q23_7</th>\n",
       "      <th>Q23_8</th>\n",
       "      <th>Q23_9</th>\n",
       "      <th>Q23_9_TEXT</th>\n",
       "      <th>Q23_10</th>\n",
       "      <th>Q23_10_TEXT</th>\n",
       "      <th>age_categories</th>\n",
       "    </tr>\n",
       "  </thead>\n",
       "  <tbody>\n",
       "    <tr>\n",
       "      <th>count</th>\n",
       "      <td>1271</td>\n",
       "      <td>6</td>\n",
       "      <td>0</td>\n",
       "      <td>0</td>\n",
       "      <td>0</td>\n",
       "      <td>6</td>\n",
       "      <td>0</td>\n",
       "      <td>0</td>\n",
       "      <td>0</td>\n",
       "      <td>0</td>\n",
       "      <td>1283</td>\n",
       "      <td>1283</td>\n",
       "      <td>1317</td>\n",
       "    </tr>\n",
       "    <tr>\n",
       "      <th>unique</th>\n",
       "      <td>1</td>\n",
       "      <td>1</td>\n",
       "      <td>0</td>\n",
       "      <td>0</td>\n",
       "      <td>0</td>\n",
       "      <td>1</td>\n",
       "      <td>0</td>\n",
       "      <td>0</td>\n",
       "      <td>0</td>\n",
       "      <td>0</td>\n",
       "      <td>1</td>\n",
       "      <td>18</td>\n",
       "      <td>4</td>\n",
       "    </tr>\n",
       "    <tr>\n",
       "      <th>top</th>\n",
       "      <td>1</td>\n",
       "      <td>1</td>\n",
       "      <td>NaN</td>\n",
       "      <td>NaN</td>\n",
       "      <td>NaN</td>\n",
       "      <td>1</td>\n",
       "      <td>NaN</td>\n",
       "      <td>NaN</td>\n",
       "      <td>NaN</td>\n",
       "      <td>NaN</td>\n",
       "      <td>1</td>\n",
       "      <td>200</td>\n",
       "      <td>18-34</td>\n",
       "    </tr>\n",
       "    <tr>\n",
       "      <th>freq</th>\n",
       "      <td>1271</td>\n",
       "      <td>6</td>\n",
       "      <td>NaN</td>\n",
       "      <td>NaN</td>\n",
       "      <td>NaN</td>\n",
       "      <td>6</td>\n",
       "      <td>NaN</td>\n",
       "      <td>NaN</td>\n",
       "      <td>NaN</td>\n",
       "      <td>NaN</td>\n",
       "      <td>1283</td>\n",
       "      <td>138</td>\n",
       "      <td>645</td>\n",
       "    </tr>\n",
       "  </tbody>\n",
       "</table>\n",
       "</div>"
      ],
      "text/plain": [
       "        Q23_1  Q23_2 Q23_3 Q23_4 Q23_5  Q23_6 Q23_7 Q23_8 Q23_9 Q23_9_TEXT  \\\n",
       "count    1271      6     0     0     0      6     0     0     0          0   \n",
       "unique      1      1     0     0     0      1     0     0     0          0   \n",
       "top         1      1   NaN   NaN   NaN      1   NaN   NaN   NaN        NaN   \n",
       "freq     1271      6   NaN   NaN   NaN      6   NaN   NaN   NaN        NaN   \n",
       "\n",
       "        Q23_10  Q23_10_TEXT age_categories  \n",
       "count     1283         1283           1317  \n",
       "unique       1           18              4  \n",
       "top          1          200          18-34  \n",
       "freq      1283          138            645  "
      ]
     },
     "execution_count": 93,
     "metadata": {},
     "output_type": "execute_result"
    }
   ],
   "source": [
    "# identifying respondents that disn't answer in usd\n",
    "survey.iloc[:,64:].describe(include=\"all\")"
   ]
  },
  {
   "cell_type": "markdown",
   "metadata": {},
   "source": [
    "Converting different currencies to USD dollars"
   ]
  },
  {
   "cell_type": "code",
   "execution_count": 94,
   "metadata": {},
   "outputs": [],
   "source": [
    "# canadian dollars\n",
    "survey[\"Q23_2\"]=survey[\"Q23_2\"].fillna(value=0).astype(int)"
   ]
  },
  {
   "cell_type": "code",
   "execution_count": 95,
   "metadata": {},
   "outputs": [],
   "source": [
    "# amount money to numeric\n",
    "survey[\"Q23_10_TEXT\"]=survey[\"Q23_10_TEXT\"].fillna(value=0).astype(int)"
   ]
  },
  {
   "cell_type": "code",
   "execution_count": 96,
   "metadata": {},
   "outputs": [],
   "source": [
    "# variable of money in usd\n",
    "survey[\"q23_usd\"]=survey[\"Q23_10_TEXT\"]"
   ]
  },
  {
   "cell_type": "code",
   "execution_count": 97,
   "metadata": {},
   "outputs": [],
   "source": [
    "survey.loc[survey[\"Q23_2\"]!=0,\"q23_usd\"]=0.74*survey[\"Q23_10_TEXT\"]"
   ]
  },
  {
   "cell_type": "code",
   "execution_count": 98,
   "metadata": {},
   "outputs": [],
   "source": [
    "# chinese Yuan\n",
    "survey[\"Q23_6\"]=survey[\"Q23_6\"].fillna(value=0).astype(int)\n",
    "survey.loc[survey[\"Q23_6\"]!=0,\"q23_usd\"]=0.14*survey[\"Q23_10_TEXT\"]"
   ]
  },
  {
   "cell_type": "code",
   "execution_count": 99,
   "metadata": {},
   "outputs": [],
   "source": [
    "q_23=survey[\"q23_usd\"].describe()"
   ]
  },
  {
   "cell_type": "code",
   "execution_count": 100,
   "metadata": {},
   "outputs": [],
   "source": [
    "age_q23=survey.loc[survey[\"age_categories\"]!=\"18 <\",[\"age_categories\",\"q23_usd\"]]"
   ]
  },
  {
   "cell_type": "code",
   "execution_count": 101,
   "metadata": {},
   "outputs": [
    {
     "data": {
      "image/png": "[encoded data removed]",
      "text/plain": [
       "<Figure size 432x288 with 1 Axes>"
      ]
     },
     "metadata": {
      "needs_background": "light"
     },
     "output_type": "display_data"
    }
   ],
   "source": [
    "category_colors = plt.get_cmap('YlGnBu')(np.linspace(0, 1,9))\n",
    "colorlist=[category_colors[3],category_colors[5],category_colors[7]]\n",
    "\n",
    "sns.boxplot(x=\"age_categories\", y=\"q23_usd\", data=age_q23,linewidth=2.5,order=[\"18-34\", \"35-55\",\"55 >\"],palette=colorlist)\n",
    "plt.gca().spines['top'].set_visible(False)\n",
    "plt.gca().spines['right'].set_visible(False)\n",
    "plt.gca().spines['left'].set_visible(False)\n",
    "plt.gca().spines['bottom'].set_visible(False)\n",
    "\n",
    "#plt.legend(bbox_to_anchor=(1,1), loc=\"upper left\")\n",
    "plt.title(\"Willingness to pay for the 4 most important attributes previously selected (USD)\",fontweight=\"bold\")\n",
    "\n",
    "plt.ylabel('Price (usd)')\n",
    "plt.xlabel('')\n",
    "\n",
    "#plt.show()\n",
    "#plt.savefig('output_fig.png')\n",
    "path='graphs\\\\q23'\n",
    "# show the graph\n",
    "plt.savefig(path+'.png',bbox_inches=\"tight\")"
   ]
  },
  {
   "cell_type": "code",
   "execution_count": 102,
   "metadata": {},
   "outputs": [
    {
     "data": {
      "text/plain": [
       "count    1317.000000\n",
       "mean      393.948368\n",
       "std       200.552558\n",
       "min         0.000000\n",
       "25%       250.000000\n",
       "50%       370.000000\n",
       "75%       550.000000\n",
       "max       900.000000\n",
       "Name: q23_usd, dtype: float64"
      ]
     },
     "execution_count": 102,
     "metadata": {},
     "output_type": "execute_result"
    }
   ],
   "source": [
    "survey[\"q23_usd\"].describe()"
   ]
  },
  {
   "cell_type": "code",
   "execution_count": 103,
   "metadata": {},
   "outputs": [
    {
     "data": {
      "text/html": [
       "<div>\n",
       "<style scoped>\n",
       "    .dataframe tbody tr th:only-of-type {\n",
       "        vertical-align: middle;\n",
       "    }\n",
       "\n",
       "    .dataframe tbody tr th {\n",
       "        vertical-align: top;\n",
       "    }\n",
       "\n",
       "    .dataframe thead th {\n",
       "        text-align: right;\n",
       "    }\n",
       "</style>\n",
       "<table border=\"1\" class=\"dataframe\">\n",
       "  <thead>\n",
       "    <tr style=\"text-align: right;\">\n",
       "      <th></th>\n",
       "      <th>count</th>\n",
       "      <th>mean</th>\n",
       "      <th>std</th>\n",
       "      <th>min</th>\n",
       "      <th>25%</th>\n",
       "      <th>50%</th>\n",
       "      <th>75%</th>\n",
       "      <th>max</th>\n",
       "    </tr>\n",
       "    <tr>\n",
       "      <th>age_categories</th>\n",
       "      <th></th>\n",
       "      <th></th>\n",
       "      <th></th>\n",
       "      <th></th>\n",
       "      <th></th>\n",
       "      <th></th>\n",
       "      <th></th>\n",
       "      <th></th>\n",
       "    </tr>\n",
       "  </thead>\n",
       "  <tbody>\n",
       "    <tr>\n",
       "      <th>18 &lt;</th>\n",
       "      <td>64.0</td>\n",
       "      <td>347.656250</td>\n",
       "      <td>202.842829</td>\n",
       "      <td>0.0</td>\n",
       "      <td>237.5</td>\n",
       "      <td>300.0</td>\n",
       "      <td>450.0</td>\n",
       "      <td>850.0</td>\n",
       "    </tr>\n",
       "    <tr>\n",
       "      <th>18-34</th>\n",
       "      <td>645.0</td>\n",
       "      <td>378.263566</td>\n",
       "      <td>190.668386</td>\n",
       "      <td>0.0</td>\n",
       "      <td>210.0</td>\n",
       "      <td>350.0</td>\n",
       "      <td>500.0</td>\n",
       "      <td>900.0</td>\n",
       "    </tr>\n",
       "    <tr>\n",
       "      <th>35-55</th>\n",
       "      <td>517.0</td>\n",
       "      <td>420.889749</td>\n",
       "      <td>215.168001</td>\n",
       "      <td>0.0</td>\n",
       "      <td>250.0</td>\n",
       "      <td>400.0</td>\n",
       "      <td>550.0</td>\n",
       "      <td>900.0</td>\n",
       "    </tr>\n",
       "    <tr>\n",
       "      <th>55 &gt;</th>\n",
       "      <td>91.0</td>\n",
       "      <td>384.615385</td>\n",
       "      <td>161.879981</td>\n",
       "      <td>100.0</td>\n",
       "      <td>250.0</td>\n",
       "      <td>350.0</td>\n",
       "      <td>500.0</td>\n",
       "      <td>800.0</td>\n",
       "    </tr>\n",
       "  </tbody>\n",
       "</table>\n",
       "</div>"
      ],
      "text/plain": [
       "                count        mean         std    min    25%    50%    75%  \\\n",
       "age_categories                                                              \n",
       "18 <             64.0  347.656250  202.842829    0.0  237.5  300.0  450.0   \n",
       "18-34           645.0  378.263566  190.668386    0.0  210.0  350.0  500.0   \n",
       "35-55           517.0  420.889749  215.168001    0.0  250.0  400.0  550.0   \n",
       "55 >             91.0  384.615385  161.879981  100.0  250.0  350.0  500.0   \n",
       "\n",
       "                  max  \n",
       "age_categories         \n",
       "18 <            850.0  \n",
       "18-34           900.0  \n",
       "35-55           900.0  \n",
       "55 >            800.0  "
      ]
     },
     "execution_count": 103,
     "metadata": {},
     "output_type": "execute_result"
    }
   ],
   "source": [
    "survey.groupby(\"age_categories\")[\"q23_usd\"].describe()"
   ]
  },
  {
   "cell_type": "code",
   "execution_count": 104,
   "metadata": {},
   "outputs": [],
   "source": [
    "def ecdf(data):\n",
    "    \"\"\"Compute ECDF for a one-dimensional array of measurements.\"\"\"\n",
    "    # Number of data points: n\n",
    "    n = len(data)\n",
    "    # x-data for the ECDF: x\n",
    "    x = np.sort(data)\n",
    "    # y-data for the ECDF: y\n",
    "    y = np.arange(1, n+1) / n\n",
    "    return x, y\n"
   ]
  },
  {
   "cell_type": "code",
   "execution_count": 105,
   "metadata": {},
   "outputs": [],
   "source": [
    "# 3 data frames for each \n",
    "g_18_34_q23=survey.loc[survey[\"age_categories\"]==\"18-34\",\"q23_usd\"]\n",
    "g_35_55_q23=survey.loc[survey[\"age_categories\"]==\"35-55\",\"q23_usd\"]\n",
    "g_55_q23=survey.loc[survey[\"age_categories\"]==\"55 >\",\"q23_usd\"]"
   ]
  },
  {
   "cell_type": "code",
   "execution_count": 106,
   "metadata": {},
   "outputs": [
    {
     "data": {
      "image/png": "[encoded data removed]",
      "text/plain": [
       "<Figure size 432x288 with 1 Axes>"
      ]
     },
     "metadata": {
      "needs_background": "light"
     },
     "output_type": "display_data"
    }
   ],
   "source": [
    "category_colors = plt.get_cmap('YlGnBu')(np.linspace(0, 1,9))\n",
    "colorlist=[category_colors[3],category_colors[5],category_colors[7]]\n",
    "\n",
    "\n",
    "\n",
    "# Compute ECDFs\n",
    "x_18_34,y_18_34=ecdf(g_18_34_q23)\n",
    "x_35_55,y_35_55 = ecdf(g_35_55_q23)\n",
    "x_55,y_55= ecdf(g_55_q23)\n",
    "\n",
    "#,marker=\".\",\n",
    "# Plot all ECDFs on the same plot\n",
    "plt.plot(x_18_34,y_18_34,marker=\".\",linestyle=\"--\",color=category_colors[3])\n",
    "plt.plot(x_35_55,y_35_55,marker=\".\",linestyle=\"-\",color=category_colors[5])\n",
    "plt.plot(x_55,y_55,marker=\".\",linestyle=\"--\",color=category_colors[7])\n",
    "\n",
    "# Annotate the plot\n",
    "plt.legend(('18-34', '35-55', '55 >'), loc='lower right')\n",
    "_ = plt.xlabel('Price (USD)')\n",
    "_ = plt.ylabel('ECDF')\n",
    "plt.title(\"Willingness to pay for the 4 most important attributes previously selected (USD)\",fontweight=\"bold\")\n",
    "\n",
    "plt.gca().spines['top'].set_visible(False)\n",
    "plt.gca().spines['right'].set_visible(False)\n",
    "plt.gca().spines['left'].set_visible(False)\n",
    "plt.gca().spines['bottom'].set_visible(False)\n",
    "\n",
    "plt.grid(color='#95a5a6', linestyle='--', linewidth=0.8, axis='x', alpha=0.3)\n",
    "plt.grid(color='#95a5a6', linestyle='--', linewidth=0.8, axis='y', alpha=0.3)\n",
    "# Display the plot\n",
    "plt.show()"
   ]
  },
  {
   "cell_type": "code",
   "execution_count": null,
   "metadata": {},
   "outputs": [],
   "source": []
  }
 ],
 "metadata": {
  "kernelspec": {
   "display_name": "Python 3",
   "language": "python",
   "name": "python3"
  },
  "language_info": {
   "codemirror_mode": {
    "name": "ipython",
    "version": 3
   },
   "file_extension": ".py",
   "mimetype": "text/x-python",
   "name": "python",
   "nbconvert_exporter": "python",
   "pygments_lexer": "ipython3",
   "version": "3.7.4"
  },
  "toc": {
   "base_numbering": 1,
   "nav_menu": {},
   "number_sections": true,
   "sideBar": true,
   "skip_h1_title": false,
   "title_cell": "Table of Contents",
   "title_sidebar": "Contents",
   "toc_cell": false,
   "toc_position": {},
   "toc_section_display": true,
   "toc_window_display": false
  }
 },
 "nbformat": 4,
 "nbformat_minor": 2
}
